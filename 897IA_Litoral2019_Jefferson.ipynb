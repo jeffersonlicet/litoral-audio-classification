{
  "nbformat": 4,
  "nbformat_minor": 0,
  "metadata": {
    "colab": {
      "name": "897IA@Litoral2019-Jefferson.ipynb",
      "provenance": [],
      "collapsed_sections": [],
      "toc_visible": true,
      "include_colab_link": true
    },
    "kernelspec": {
      "name": "python3",
      "display_name": "Python 3"
    },
    "accelerator": "GPU"
  },
  "cells": [
    {
      "cell_type": "markdown",
      "metadata": {
        "id": "view-in-github",
        "colab_type": "text"
      },
      "source": [
        "<a href=\"https://colab.research.google.com/github/jeffersonlicet/litoral-audio-classification/blob/master/897IA_Litoral2019_Jefferson.ipynb\" target=\"_parent\"><img src=\"https://colab.research.google.com/assets/colab-badge.svg\" alt=\"Open In Colab\"/></a>"
      ]
    },
    {
      "cell_type": "markdown",
      "metadata": {
        "id": "DQTOJn7tq910",
        "colab_type": "text"
      },
      "source": [
        "# Bienvenido 🐮\n",
        "**IA en Ganadería de Precisión**\n",
        "\n",
        "---\n",
        "\n",
        "\n",
        "\n",
        "Este colab te permite recrear (*casi exactamente*) cómo logré alcanzar el top 5 en el leaderboard público del concurso.\n",
        "\n",
        "\n",
        "Digo casi exactamente ya que no logré encontrar la forma de fijar los números randoms en colab. Sin embargo la idea es la misma."
      ]
    },
    {
      "cell_type": "markdown",
      "metadata": {
        "id": "HEfNHBNotwrC",
        "colab_type": "text"
      },
      "source": [
        "# ⚪ **1** Vamos a importar las librerías necesarias"
      ]
    },
    {
      "cell_type": "code",
      "metadata": {
        "id": "_2CXm-zn-Xon",
        "colab_type": "code",
        "colab": {}
      },
      "source": [
        "import os\n",
        "import csv\n",
        "import shutil\n",
        "import librosa\n",
        "import numpy as np\n",
        "import pandas as pd\n",
        "import zipfile as zf\n",
        "import librosa.display\n",
        "from pathlib import Path\n",
        "from google.colab import files as filescolab\n",
        "\n",
        "import matplotlib.pyplot as plt\n",
        "from IPython.display import Audio\n",
        "\n",
        "from sklearn.utils import class_weight\n",
        "from sklearn.metrics import balanced_accuracy_score, accuracy_score\n",
        "from sklearn.model_selection import train_test_split\n",
        "\n",
        "import tensorflow as tf\n",
        "from tensorflow.keras.optimizers import Adam\n",
        "from tensorflow.keras.utils import plot_model\n",
        "from tensorflow.keras.models import Sequential, Model\n",
        "from sklearn.model_selection import KFold, StratifiedKFold\n",
        "from tensorflow.keras.losses import sparse_categorical_crossentropy\n",
        "from tensorflow.keras.layers import Conv2D, MaxPooling2D, BatchNormalization\n",
        "from tensorflow.keras.layers import Dense, Activation, Flatten, Dropout, Input\n",
        "from tensorflow.keras.regularizers import l2\n",
        "\n",
        "BASE_PATH = Path('/')\n",
        "DATA_PATH = BASE_PATH / 'data_competition_2'\n",
        "DATA_ZIP_FILE = DATA_PATH / 'data.zip'\n",
        "AUDIO_PATH = DATA_PATH / 'data'\n",
        "\n",
        "LABELS_CSV_FILE = DATA_PATH / 'train_labels.csv'\n",
        "BOTTLENECKS_PATH = DATA_PATH / 'bottlenecks'\n",
        "MODELS_PATH = DATA_PATH / 'models'\n",
        "SOLUTION_PATH = DATA_PATH / 'solution.csv'"
      ],
      "execution_count": 0,
      "outputs": []
    },
    {
      "cell_type": "markdown",
      "metadata": {
        "id": "QRpdfHCz97Zc",
        "colab_type": "text"
      },
      "source": [
        "# ⚪ **2** Descargamos y preparamos los datos de la competencia"
      ]
    },
    {
      "cell_type": "code",
      "metadata": {
        "id": "zj0CLi0zP0mf",
        "colab_type": "code",
        "colab": {}
      },
      "source": [
        "if not os.path.exists(DATA_PATH):\n",
        "    os.makedirs(DATA_PATH)\n",
        "os.chdir(DATA_PATH)\n",
        "\n",
        "if not os.path.exists(BOTTLENECKS_PATH):\n",
        "    os.makedirs(BOTTLENECKS_PATH)\n",
        "\n",
        "if not os.path.exists(MODELS_PATH):\n",
        "    os.makedirs(MODELS_PATH)"
      ],
      "execution_count": 0,
      "outputs": []
    },
    {
      "cell_type": "code",
      "metadata": {
        "id": "KH6IEwnL-VOB",
        "colab_type": "code",
        "outputId": "e446247d-294c-4db0-8dfd-b9f3be023e92",
        "colab": {
          "base_uri": "https://localhost:8080/",
          "height": 445
        }
      },
      "source": [
        "!wget --quiet --no-clobber https://www.dropbox.com/s/qoyduoa5prupyzr/test_files.csv\n",
        "!wget --quiet --no-clobber https://www.dropbox.com/s/z1cwznln0gfpw32/train_labels.csv\n",
        "!wget --no-clobber https://www.dropbox.com/s/d12x5vknrk9yek1/data.zip"
      ],
      "execution_count": 0,
      "outputs": [
        {
          "output_type": "stream",
          "text": [
            "--2019-11-22 14:09:24--  https://www.dropbox.com/s/d12x5vknrk9yek1/data.zip\n",
            "Resolving www.dropbox.com (www.dropbox.com)... 162.125.65.1, 2620:100:601b:1::a27d:801\n",
            "Connecting to www.dropbox.com (www.dropbox.com)|162.125.65.1|:443... connected.\n",
            "HTTP request sent, awaiting response... 301 Moved Permanently\n",
            "Location: /s/raw/d12x5vknrk9yek1/data.zip [following]\n",
            "--2019-11-22 14:09:24--  https://www.dropbox.com/s/raw/d12x5vknrk9yek1/data.zip\n",
            "Reusing existing connection to www.dropbox.com:443.\n",
            "HTTP request sent, awaiting response... 302 Found\n",
            "Location: https://ucd512c234f5260f667478c43bba.dl.dropboxusercontent.com/cd/0/inline/As3-qOmdD--lqUorblAn4RNmCAMNRlIHG1v35MlTGvIsnm290TtyU034IsOHancYeTV8E_p2KqP48PX_J707bZaltJLEoUbMnMMzOKJKCrzVL5_hOgjyLHlR1bD0qCFXylc/file# [following]\n",
            "--2019-11-22 14:09:24--  https://ucd512c234f5260f667478c43bba.dl.dropboxusercontent.com/cd/0/inline/As3-qOmdD--lqUorblAn4RNmCAMNRlIHG1v35MlTGvIsnm290TtyU034IsOHancYeTV8E_p2KqP48PX_J707bZaltJLEoUbMnMMzOKJKCrzVL5_hOgjyLHlR1bD0qCFXylc/file\n",
            "Resolving ucd512c234f5260f667478c43bba.dl.dropboxusercontent.com (ucd512c234f5260f667478c43bba.dl.dropboxusercontent.com)... 162.125.65.6, 2620:100:6021:6::a27d:4106\n",
            "Connecting to ucd512c234f5260f667478c43bba.dl.dropboxusercontent.com (ucd512c234f5260f667478c43bba.dl.dropboxusercontent.com)|162.125.65.6|:443... connected.\n",
            "HTTP request sent, awaiting response... 302 FOUND\n",
            "Location: /cd/0/inline2/As00diDCN2SwTqqv1FWtjh4ZGclhgb_drwCifHZWzYFpwgkWeQS5vN2FzYs0dTdze4eAkZeZY9Od2uxNrmxfsw-QdCIqrx4sQEaq5nUM1qdQFB83B0TJHXqEQjDpTIFPjkbbDAtZbDgBJoNOytAL7h8ALYzkJv1N7P_nbqeskYM_Z13WwS1ahvfaFzq0XHsV9fnzzpU0zkpvS9-8BZezCmVLQmdHQyFcfUOHkEgWq4nqS9b0xpi-_hng42YxGx0nU5bTcHiBSnFMI00jpby_JIOqklhRbnqvRq2lzGZcJTO2k8iNLGyQCtON44aJvlKMY7qHt5eD0yuync4g7rxzzMy7Wn_Hq_t_Dfvh7437Xk5FVA/file [following]\n",
            "--2019-11-22 14:09:26--  https://ucd512c234f5260f667478c43bba.dl.dropboxusercontent.com/cd/0/inline2/As00diDCN2SwTqqv1FWtjh4ZGclhgb_drwCifHZWzYFpwgkWeQS5vN2FzYs0dTdze4eAkZeZY9Od2uxNrmxfsw-QdCIqrx4sQEaq5nUM1qdQFB83B0TJHXqEQjDpTIFPjkbbDAtZbDgBJoNOytAL7h8ALYzkJv1N7P_nbqeskYM_Z13WwS1ahvfaFzq0XHsV9fnzzpU0zkpvS9-8BZezCmVLQmdHQyFcfUOHkEgWq4nqS9b0xpi-_hng42YxGx0nU5bTcHiBSnFMI00jpby_JIOqklhRbnqvRq2lzGZcJTO2k8iNLGyQCtON44aJvlKMY7qHt5eD0yuync4g7rxzzMy7Wn_Hq_t_Dfvh7437Xk5FVA/file\n",
            "Reusing existing connection to ucd512c234f5260f667478c43bba.dl.dropboxusercontent.com:443.\n",
            "HTTP request sent, awaiting response... 200 OK\n",
            "Length: 84347854 (80M) [application/zip]\n",
            "Saving to: ‘data.zip’\n",
            "\n",
            "data.zip            100%[===================>]  80.44M  15.7MB/s    in 7.0s    \n",
            "\n",
            "2019-11-22 14:09:33 (11.4 MB/s) - ‘data.zip’ saved [84347854/84347854]\n",
            "\n"
          ],
          "name": "stdout"
        }
      ]
    },
    {
      "cell_type": "code",
      "metadata": {
        "id": "re_bHAB__54i",
        "colab_type": "code",
        "colab": {}
      },
      "source": [
        "if not os.path.exists(AUDIO_PATH) and os.path.isfile('data.zip'):\n",
        "    with zf.ZipFile(DATA_ZIP_FILE, 'r') as zip_ref:\n",
        "        zip_ref.extractall('.')"
      ],
      "execution_count": 0,
      "outputs": []
    },
    {
      "cell_type": "markdown",
      "metadata": {
        "id": "OSLQ5_1CAlc8",
        "colab_type": "text"
      },
      "source": [
        "# ⚪ **3** Análisis y exploración del conjunto de datos"
      ]
    },
    {
      "cell_type": "markdown",
      "metadata": {
        "id": "MaQurUDksgMe",
        "colab_type": "text"
      },
      "source": [
        "Cargamos el CSV usando Pandas e imprimimos un subconjunto de los datos\n"
      ]
    },
    {
      "cell_type": "code",
      "metadata": {
        "id": "7-OObwEPBXyv",
        "colab_type": "code",
        "outputId": "c1458e4a-f8dc-4d92-94a8-4878205a7a04",
        "colab": {
          "base_uri": "https://localhost:8080/",
          "height": 204
        }
      },
      "source": [
        "data = pd.read_csv(LABELS_CSV_FILE, dtype=str)\n",
        "data.head()"
      ],
      "execution_count": 0,
      "outputs": [
        {
          "output_type": "execute_result",
          "data": {
            "text/html": [
              "<div>\n",
              "<style scoped>\n",
              "    .dataframe tbody tr th:only-of-type {\n",
              "        vertical-align: middle;\n",
              "    }\n",
              "\n",
              "    .dataframe tbody tr th {\n",
              "        vertical-align: top;\n",
              "    }\n",
              "\n",
              "    .dataframe thead th {\n",
              "        text-align: right;\n",
              "    }\n",
              "</style>\n",
              "<table border=\"1\" class=\"dataframe\">\n",
              "  <thead>\n",
              "    <tr style=\"text-align: right;\">\n",
              "      <th></th>\n",
              "      <th>filename</th>\n",
              "      <th>pasture</th>\n",
              "      <th>height</th>\n",
              "      <th>label</th>\n",
              "    </tr>\n",
              "  </thead>\n",
              "  <tbody>\n",
              "    <tr>\n",
              "      <th>0</th>\n",
              "      <td>0004</td>\n",
              "      <td>alfalfa</td>\n",
              "      <td>tall</td>\n",
              "      <td>2</td>\n",
              "    </tr>\n",
              "    <tr>\n",
              "      <th>1</th>\n",
              "      <td>0009</td>\n",
              "      <td>alfalfa</td>\n",
              "      <td>tall</td>\n",
              "      <td>2</td>\n",
              "    </tr>\n",
              "    <tr>\n",
              "      <th>2</th>\n",
              "      <td>0010</td>\n",
              "      <td>alfalfa</td>\n",
              "      <td>tall</td>\n",
              "      <td>1</td>\n",
              "    </tr>\n",
              "    <tr>\n",
              "      <th>3</th>\n",
              "      <td>0011</td>\n",
              "      <td>alfalfa</td>\n",
              "      <td>tall</td>\n",
              "      <td>2</td>\n",
              "    </tr>\n",
              "    <tr>\n",
              "      <th>4</th>\n",
              "      <td>0013</td>\n",
              "      <td>alfalfa</td>\n",
              "      <td>tall</td>\n",
              "      <td>2</td>\n",
              "    </tr>\n",
              "  </tbody>\n",
              "</table>\n",
              "</div>"
            ],
            "text/plain": [
              "  filename  pasture height label\n",
              "0     0004  alfalfa   tall     2\n",
              "1     0009  alfalfa   tall     2\n",
              "2     0010  alfalfa   tall     1\n",
              "3     0011  alfalfa   tall     2\n",
              "4     0013  alfalfa   tall     2"
            ]
          },
          "metadata": {
            "tags": []
          },
          "execution_count": 11
        }
      ]
    },
    {
      "cell_type": "markdown",
      "metadata": {
        "id": "EkpIBhkMDw2b",
        "colab_type": "text"
      },
      "source": [
        "Sólo utilizaremos filename y label.\n",
        "Demos un vistazo al dataset y a las diferentes categorías:"
      ]
    },
    {
      "cell_type": "code",
      "metadata": {
        "id": "mb9XbfsyD2lz",
        "colab_type": "code",
        "outputId": "74d208dd-0407-4000-e947-097c0dbedfdf",
        "colab": {
          "base_uri": "https://localhost:8080/",
          "height": 51
        }
      },
      "source": [
        "print('Hay un total de {} categorias en el dataset'.format(len(np.unique(data.label))))\n",
        "print('Y un total de {} entradas'.format(data.shape[0]))"
      ],
      "execution_count": 0,
      "outputs": [
        {
          "output_type": "stream",
          "text": [
            "Hay un total de 3 categorias en el dataset\n",
            "Y un total de 1532 entradas\n"
          ],
          "name": "stdout"
        }
      ]
    },
    {
      "cell_type": "markdown",
      "metadata": {
        "id": "1-cJ4bcVDbLs",
        "colab_type": "text"
      },
      "source": [
        "Veamos la distribución por categorías"
      ]
    },
    {
      "cell_type": "code",
      "metadata": {
        "id": "sFwAmiHrDYeb",
        "colab_type": "code",
        "outputId": "379fd95d-3d35-4cb1-b9a8-944e7d657d6d",
        "colab": {
          "base_uri": "https://localhost:8080/",
          "height": 102
        }
      },
      "source": [
        "data.groupby('label').size()"
      ],
      "execution_count": 0,
      "outputs": [
        {
          "output_type": "execute_result",
          "data": {
            "text/plain": [
              "label\n",
              "0    255\n",
              "1    827\n",
              "2    450\n",
              "dtype: int64"
            ]
          },
          "metadata": {
            "tags": []
          },
          "execution_count": 13
        }
      ]
    },
    {
      "cell_type": "markdown",
      "metadata": {
        "id": "61VAWMInDhbv",
        "colab_type": "text"
      },
      "source": [
        "El dataset claramente no está balanceado, tomaremos esto en cuenta en el futuro. "
      ]
    },
    {
      "cell_type": "code",
      "metadata": {
        "id": "3SNNDbknErnK",
        "colab_type": "code",
        "outputId": "fa56f4c2-a01b-4274-a672-9b191c6b9105",
        "colab": {
          "base_uri": "https://localhost:8080/",
          "height": 607
        }
      },
      "source": [
        "# Obtenemos un sampleo de los archivos\n",
        "sample = data.sample(6, random_state=10)\n",
        "fig, axes = plt.subplots(nrows=2, ncols=3, figsize=(12,10), sharey=True)\n",
        "\n",
        "for i in range(6):\n",
        "  entry = sample.iloc[i]\n",
        "  # Ploteamos los archivos de audio\n",
        "  y, sr = librosa.load(AUDIO_PATH / (entry.filename + '.wav'), sr=None)\n",
        "  axes[i % 2, i % 3].set_title('Category: ' + entry.label)\n",
        "  axes[i % 2, i % 3].plot(y)\n"
      ],
      "execution_count": 0,
      "outputs": [
        {
          "output_type": "display_data",
          "data": {
            "image/png": "[encoded data removed]",
            "text/plain": [
              "<Figure size 864x720 with 6 Axes>"
            ]
          },
          "metadata": {
            "tags": []
          }
        }
      ]
    },
    {
      "cell_type": "markdown",
      "metadata": {
        "id": "kb-LeaAFKqlO",
        "colab_type": "text"
      },
      "source": [
        "Segun los datos de la competencia todos los sonidos deberían respetar una duracion de: 0.8 segundos\n",
        "\n",
        "Se puede observar en las gráficas de **Señal Sonora** que las señales interesantes están centradas, es decir, a pesar de la duración de 0.8s, el archivo de audio puede ser aún más reducido. Por otro lado explorando los datos pude notar que algunos archivos tienen sonidos posiblemente de la cámara.\n",
        "Por ejemplo: el archivo **0032.wav**"
      ]
    },
    {
      "cell_type": "code",
      "metadata": {
        "id": "pxVytEYRtdDC",
        "colab_type": "code",
        "outputId": "07d1f593-fdb6-4445-b8a1-b3ebc62c276b",
        "colab": {
          "base_uri": "https://localhost:8080/",
          "height": 75
        }
      },
      "source": [
        "y, sr = librosa.load(AUDIO_PATH / '0032.wav', sr=None)\n",
        "Audio(data=y, rate=sr)"
      ],
      "execution_count": 0,
      "outputs": [
        {
          "output_type": "execute_result",
          "data": {
            "text/html": [
              "\n",
              "                <audio controls=\"controls\" >\n",
              "                    <source src=\"data:audio/wav;base64,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\" type=\"audio/wav\" />\n",
              "                    Your browser does not support the audio element.\n",
              "                </audio>\n",
              "              "
            ],
            "text/plain": [
              "<IPython.lib.display.Audio object>"
            ]
          },
          "metadata": {
            "tags": []
          },
          "execution_count": 12
        }
      ]
    },
    {
      "cell_type": "markdown",
      "metadata": {
        "id": "ugJzPIZsuOvG",
        "colab_type": "text"
      },
      "source": [
        "Este sonido se encuentra en varios archivos:\n",
        "\n",
        "\n",
        "*   0032.wav\n",
        "*   0023.wav\n",
        "*   0421.wav\n",
        "\n",
        "... y otros más\n",
        "\n",
        "\n",
        "Veamos como luce el Spectogram del primer archivo"
      ]
    },
    {
      "cell_type": "code",
      "metadata": {
        "id": "Q6QvV4sUufYT",
        "colab_type": "code",
        "outputId": "ffb1bf7a-457e-40ec-eeb6-31ceb9d4fea0",
        "colab": {
          "base_uri": "https://localhost:8080/",
          "height": 505
        }
      },
      "source": [
        "D = librosa.stft(y)\n",
        "rp = np.max(np.abs(D))\n",
        "plt.figure(figsize=(12, 8))\n",
        "plt.title('Spectogram de archivo con sonido extraño')\n",
        "librosa.display.specshow(librosa.amplitude_to_db(np.abs(D), ref=rp), y_axis='log')"
      ],
      "execution_count": 0,
      "outputs": [
        {
          "output_type": "execute_result",
          "data": {
            "text/plain": [
              "<matplotlib.axes._subplots.AxesSubplot at 0x7f18cb980cc0>"
            ]
          },
          "metadata": {
            "tags": []
          },
          "execution_count": 14
        },
        {
          "output_type": "display_data",
          "data": {
            "image/png": "[encoded data removed]",
            "text/plain": [
              "<Figure size 864x576 with 1 Axes>"
            ]
          },
          "metadata": {
            "tags": []
          }
        }
      ]
    },
    {
      "cell_type": "markdown",
      "metadata": {
        "id": "75-cd8Acuwlm",
        "colab_type": "text"
      },
      "source": [
        "Se puede notar que las lineas que describen este sonido extraño son bastante horizontales, esto es un indicio para saber que es un sonido harmónico según la lectura: \n",
        "\n",
        "**HARMONIC/PERCUSSIVE SEPARATION USING MEDIAN FILTERING.** (http://dafx10.iem.at/papers/DerryFitzGerald_DAFx10_P15.pdf)\n",
        "\n",
        "Podemos separar este sonido harmónico de los sonidos percusivos de la siguiente forma:\n"
      ]
    },
    {
      "cell_type": "code",
      "metadata": {
        "id": "IFxXZGj8v7r0",
        "colab_type": "code",
        "outputId": "d5cd34bb-c8de-4de8-b861-9af0509a26e6",
        "colab": {
          "base_uri": "https://localhost:8080/",
          "height": 295
        }
      },
      "source": [
        "y_harm, y_perc = librosa.effects.hpss(y, margin=1)\n",
        "librosa.display.waveplot(y_harm, sr=sr, alpha=0.25)\n",
        "librosa.display.waveplot(y_perc, sr=sr, color='r', alpha=0.5)\n",
        "plt.title('Harmonic (Azul) Percussive (Rojo)')\n",
        "plt.show()"
      ],
      "execution_count": 0,
      "outputs": [
        {
          "output_type": "display_data",
          "data": {
            "image/png": "[encoded data removed]",
            "text/plain": [
              "<Figure size 432x288 with 1 Axes>"
            ]
          },
          "metadata": {
            "tags": []
          }
        }
      ]
    },
    {
      "cell_type": "markdown",
      "metadata": {
        "id": "P65u1S4ZwI2X",
        "colab_type": "text"
      },
      "source": [
        "Efectivamente logramos detectar estos sonidos harmónicos y ahora podemos separarlos del archivo como parte del preprocesamiento, veamos más ejemplos:"
      ]
    },
    {
      "cell_type": "code",
      "metadata": {
        "id": "Y4BrMfdnwS3M",
        "colab_type": "code",
        "outputId": "9ae5a776-3b12-4726-972c-a40ce5ea490a",
        "colab": {
          "base_uri": "https://localhost:8080/",
          "height": 896
        }
      },
      "source": [
        "y, sr = librosa.load(AUDIO_PATH / '0023.wav', sr=None, mono=True, duration=0.8)\n",
        "y2, sr2 = librosa.load(AUDIO_PATH / '0421.wav', sr=None, mono=True,  duration=0.8)\n",
        "\n",
        "y_harm, y_perc = librosa.effects.hpss(y)\n",
        "y2_harm, y2_perc = librosa.effects.hpss(y2)\n",
        "\n",
        "fig, axes = plt.subplots(nrows=3, ncols=2, figsize=(10,15), sharey=True)\n",
        "\n",
        "axes[0, 0].set_title('Archivo 1 - Señal sonora')\n",
        "axes[0, 0].plot(y)\n",
        "\n",
        "axes[1, 0].set_title('Señal harmónica')\n",
        "axes[1, 0].plot(y_harm, color='c')\n",
        "\n",
        "axes[2, 0].set_title('Señal de percusion')\n",
        "axes[2, 0].plot(y_perc, color='r')\n",
        "\n",
        "axes[0, 1].set_title('Archivo 2 - Señal sonora')\n",
        "axes[0, 1].plot(y2)\n",
        "\n",
        "axes[1, 1].set_title('Señal harmónica')\n",
        "axes[1, 1].plot(y2_harm, color='c')\n",
        "\n",
        "axes[2, 1].set_title('Señal de percusion')\n",
        "axes[2, 1].plot(y2_perc, color='r')"
      ],
      "execution_count": 0,
      "outputs": [
        {
          "output_type": "execute_result",
          "data": {
            "text/plain": [
              "[<matplotlib.lines.Line2D at 0x7f7f41c89f28>]"
            ]
          },
          "metadata": {
            "tags": []
          },
          "execution_count": 64
        },
        {
          "output_type": "display_data",
          "data": {
            "image/png": "[encoded data removed]",
            "text/plain": [
              "<Figure size 720x1080 with 6 Axes>"
            ]
          },
          "metadata": {
            "tags": []
          }
        }
      ]
    },
    {
      "cell_type": "markdown",
      "metadata": {
        "id": "fIXIcSwLVtdZ",
        "colab_type": "text"
      },
      "source": [
        "**Harmónico semi aislado:**"
      ]
    },
    {
      "cell_type": "code",
      "metadata": {
        "id": "Y4njqayBVdu1",
        "colab_type": "code",
        "outputId": "6ec6e64b-3bab-4722-da96-60fa2d841c4c",
        "colab": {
          "base_uri": "https://localhost:8080/",
          "height": 75
        }
      },
      "source": [
        "Audio(data=y_harm, rate=sr)"
      ],
      "execution_count": 0,
      "outputs": [
        {
          "output_type": "execute_result",
          "data": {
            "text/html": [
              "\n",
              "                <audio controls=\"controls\" >\n",
              "                    <source src=\"data:audio/wav;base64,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\" type=\"audio/wav\" />\n",
              "                    Your browser does not support the audio element.\n",
              "                </audio>\n",
              "              "
            ],
            "text/plain": [
              "<IPython.lib.display.Audio object>"
            ]
          },
          "metadata": {
            "tags": []
          },
          "execution_count": 65
        }
      ]
    },
    {
      "cell_type": "markdown",
      "metadata": {
        "id": "f7PHzHbCVxcy",
        "colab_type": "text"
      },
      "source": [
        "**Percusión semi aislada:**"
      ]
    },
    {
      "cell_type": "code",
      "metadata": {
        "id": "nFx4bNLvVzrc",
        "colab_type": "code",
        "outputId": "0851e4da-014d-45b5-c842-de56cecd23e2",
        "colab": {
          "base_uri": "https://localhost:8080/",
          "height": 75
        }
      },
      "source": [
        "Audio(data=y_perc, rate=sr)"
      ],
      "execution_count": 0,
      "outputs": [
        {
          "output_type": "execute_result",
          "data": {
            "text/html": [
              "\n",
              "                <audio controls=\"controls\" >\n",
              "                    <source src=\"data:audio/wav;base64,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\" type=\"audio/wav\" />\n",
              "                    Your browser does not support the audio element.\n",
              "                </audio>\n",
              "              "
            ],
            "text/plain": [
              "<IPython.lib.display.Audio object>"
            ]
          },
          "metadata": {
            "tags": []
          },
          "execution_count": 66
        }
      ]
    },
    {
      "cell_type": "markdown",
      "metadata": {
        "id": "J8YtZgTRt0pG",
        "colab_type": "text"
      },
      "source": [
        "# ⚪ **4** Preprocesamos todos los datos"
      ]
    },
    {
      "cell_type": "markdown",
      "metadata": {
        "id": "iDxiSrBAbE_O",
        "colab_type": "text"
      },
      "source": [
        "**MFCC**\n",
        "\n",
        "La representación elegida para los sonidos fueron los Coeﬁcientes Cepstrales en las Frecuencias de Mel\n",
        "\n",
        "Lucen de la siguiente forma:"
      ]
    },
    {
      "cell_type": "code",
      "metadata": {
        "colab_type": "code",
        "id": "aMhP4gG-cv4t",
        "outputId": "0b39f860-eaa8-45b3-86bc-34b09e403b0a",
        "colab": {
          "base_uri": "https://localhost:8080/",
          "height": 297
        }
      },
      "source": [
        "y, sr = librosa.load(AUDIO_PATH / '0032.wav', sr=None)\n",
        "y_harm, y_perc = librosa.effects.hpss(y)\n",
        "\n",
        "mfccs = librosa.feature.mfcc(y_perc, sr=sr)\n",
        "\n",
        "plt.figure(figsize=(10, 4))\n",
        "librosa.display.specshow(mfccs, x_axis='time')\n",
        "plt.colorbar()\n",
        "plt.title('MFCC de las percusiones')\n",
        "plt.tight_layout()\n",
        "plt.show()"
      ],
      "execution_count": 0,
      "outputs": [
        {
          "output_type": "display_data",
          "data": {
            "image/png": "[encoded data removed]",
            "text/plain": [
              "<Figure size 720x288 with 2 Axes>"
            ]
          },
          "metadata": {
            "tags": []
          }
        }
      ]
    },
    {
      "cell_type": "markdown",
      "metadata": {
        "id": "o_Qn0wSOjjmV",
        "colab_type": "text"
      },
      "source": [
        "Código para preprocesar los archivos de audio"
      ]
    },
    {
      "cell_type": "code",
      "metadata": {
        "id": "phLAxQ6Htz53",
        "colab_type": "code",
        "colab": {}
      },
      "source": [
        "import sklearn\n",
        "import pandas as pd\n",
        "from tqdm import tqdm\n",
        "\n",
        "max_ = 0\n",
        "\n",
        "# TODO: run on batch\n",
        "def create_spectrogram(filename, name, max_len=35):\n",
        "  global max_\n",
        "  y, sample_rate = librosa.load(filename, mono=True, sr=None, duration=0.8)\n",
        "\n",
        "  # Remove harmonics ->\n",
        "  y_harm, y = librosa.effects.hpss(y)\n",
        "\n",
        "  # Generate mfcc ->\n",
        "  mfcc = librosa.feature.mfcc(y, sr=sample_rate, n_mfcc=20)\n",
        "\n",
        "  if mfcc.shape[1] > max_:\n",
        "    max_ = mfcc.shape[1]\n",
        "\n",
        "  if (max_len > mfcc.shape[1]):\n",
        "      pad_width = max_len - mfcc.shape[1]\n",
        "      mfcc = np.pad(mfcc, pad_width=((0, 0), (0, pad_width)), mode='constant')\n",
        "  else:\n",
        "    mfcc = mfcc[:, :max_len]\n",
        "\n",
        "  return mfcc\n",
        "\n",
        "def preprocess_train_data():\n",
        "  global max_\n",
        "  max_ = 0\n",
        "  data = pd.read_csv(LABELS_CSV_FILE, dtype=str)\n",
        "\n",
        "  labels = []\n",
        "  features = []\n",
        "\n",
        "  for i in tqdm(range(data.shape[0])):\n",
        "    label = data.iloc[i].label\n",
        "    filepath = data.iloc[i].filename\n",
        "    labels.append(int(label))\n",
        "    features.append(create_spectrogram(AUDIO_PATH / (filepath+'.wav'), filepath))\n",
        "\n",
        "  np.save(BOTTLENECKS_PATH / 'mfcc.npy', features)\n",
        "  np.save(BOTTLENECKS_PATH / 'labels.npy', labels)\n",
        "  print('Labels and mfcc array saved')\n",
        "\n",
        "def preprocess_test_data(audio_path, csv_path):\n",
        "  global max_\n",
        "  max_ = 0\n",
        "  data = pd.read_csv(csv_path, dtype=str)\n",
        "  features = []\n",
        "\n",
        "  for i in tqdm(range(data.shape[0])):\n",
        "    filepath = data.iloc[i].filename\n",
        "    features.append(create_spectrogram(audio_path / (filepath+'.wav'), filepath))\n",
        "  np.save(BOTTLENECKS_PATH / 'test.npy', features)\n",
        "  print('\\nTest mfcc array saved')\n"
      ],
      "execution_count": 0,
      "outputs": []
    },
    {
      "cell_type": "code",
      "metadata": {
        "id": "MPl0xmb9k76k",
        "colab_type": "code",
        "outputId": "78500f4d-03ee-4588-ac30-6ffdb45944d1",
        "colab": {
          "base_uri": "https://localhost:8080/",
          "height": 51
        }
      },
      "source": [
        "preprocess_train_data()"
      ],
      "execution_count": 0,
      "outputs": [
        {
          "output_type": "stream",
          "text": [
            "100%|██████████| 1532/1532 [04:41<00:00,  5.22it/s]"
          ],
          "name": "stderr"
        },
        {
          "output_type": "stream",
          "text": [
            "Labels and mfcc array saved\n"
          ],
          "name": "stdout"
        },
        {
          "output_type": "stream",
          "text": [
            "\n"
          ],
          "name": "stderr"
        }
      ]
    },
    {
      "cell_type": "markdown",
      "metadata": {
        "id": "XstUkjz-kgna",
        "colab_type": "text"
      },
      "source": [
        "# ⚪ **5** Definición del modelo"
      ]
    },
    {
      "cell_type": "markdown",
      "metadata": {
        "id": "DK97BTb6kkP_",
        "colab_type": "text"
      },
      "source": [
        "Es importante aclarar en este punto que mi poca experiencia viene de clasificar imágenes y texto para otras competencias. \n",
        "\n",
        "Mi primer enfoque fue guardar las imagenes de los MFCC o Melspectrograms y utilizar Transfer Learning mediante modelos como VGG16, y así atacar el problema como si se tratara de clasificación de imágenes.\n",
        "\n",
        "Sin embargo no obtuve buenos resultados, pero la arquitectura de mi modelo, que, sigue varios ejemplos de arquitecturas como VGG parece dar buenos resultados aplicada directamente sobre el mfcc."
      ]
    },
    {
      "cell_type": "markdown",
      "metadata": {
        "id": "tfMs2h76oOfM",
        "colab_type": "text"
      },
      "source": [
        "**Antes de entrenar**\n",
        "* El dataset es dividido 85-15 para training y validating data.\n",
        "* Se computan los pesos por clases ya que el dataset no está balanceado para lograr un mejor BACC\n",
        "\n",
        "\n"
      ]
    },
    {
      "cell_type": "code",
      "metadata": {
        "id": "hN8ewtmokupZ",
        "colab_type": "code",
        "outputId": "054f885a-1d1a-4ae8-fd24-acf4114606d6",
        "colab": {
          "base_uri": "https://localhost:8080/",
          "height": 51
        }
      },
      "source": [
        "x = np.load(BOTTLENECKS_PATH / 'mfcc.npy', allow_pickle=True)\n",
        "y = np.load(BOTTLENECKS_PATH / 'labels.npy', allow_pickle=True)\n",
        "\n",
        "print(\"Input shape: \")\n",
        "print(x.shape)\n",
        "\n",
        "class_weights = class_weight.compute_class_weight('balanced', np.unique(y), y)\n",
        "\n",
        "# Reshape para agregar una dimension\n",
        "x = x.reshape(x.shape[0], 20, 35, 1)\n",
        "\n",
        "def generate_model(x_train, y_train, x_test, y_test, disabled=False, iteration=0):\n",
        "  model = Sequential()\n",
        "  print('Starting kfold iteration: ' + str(iteration))\n",
        "\n",
        "  model.add(Input(shape=(x.shape[1], x.shape[2], x.shape[3])))\n",
        "  \n",
        "  # Bloque 1\n",
        "  model.add(Conv2D(64, kernel_size=(3, 3), activation='relu', padding='same'))\n",
        "  model.add(Conv2D(64, kernel_size=(3, 3), activation='relu', padding='same'))\n",
        "  model.add(Dropout(0.35))\n",
        "  model.add(MaxPooling2D(pool_size=(2, 2), strides=(2,2)))\n",
        "\n",
        "  # Bloque 2\n",
        "  model.add(Conv2D(128, kernel_size=(3, 3), activation='relu', padding='same'))\n",
        "  model.add(Conv2D(128, kernel_size=(3, 3), activation='relu', padding='same'))\n",
        "  model.add(Dropout(0.35))\n",
        "  model.add(MaxPooling2D(pool_size=(2, 2), strides=(2,2)))\n",
        "\n",
        " # Bloque 3\n",
        "  model.add(Conv2D(256, kernel_size=(3, 3), activation='relu', padding='same'))\n",
        "  model.add(Conv2D(256, kernel_size=(3, 3), activation='relu', padding='same'))\n",
        "  model.add(Dropout(0.35))\n",
        "  model.add(MaxPooling2D(pool_size=(2, 2), strides=(2,2)))\n",
        "\n",
        "  # Classification layer\n",
        "  model.add(Flatten())\n",
        "  model.add(Dense(64, activation='relu'))\n",
        "  model.add(Dropout(0.5))\n",
        "  model.add(Dense(3, activation='softmax'))\n",
        "  model.compile(loss=sparse_categorical_crossentropy,\n",
        "                optimizer=Adam(lr=0.0001),\n",
        "                metrics=['accuracy'])\n",
        "  \n",
        "  if disabled:\n",
        "    return model, 0\n",
        "\n",
        "  es = tf.keras.callbacks.EarlyStopping(monitor='val_loss', mode='min', patience=10, verbose=1)\n",
        "  mcp_save = tf.keras.callbacks.ModelCheckpoint(str(MODELS_PATH / (str(iteration) +'_model.hdf5')),\n",
        "                                                save_best_only=True,\n",
        "                                                monitor='val_loss',\n",
        "                                                mode='min')\n",
        "\n",
        "  model.fit(\n",
        "    x=x_train,\n",
        "    y=y_train,\n",
        "    validation_data=(x_test, y_test),\n",
        "    epochs=300,\n",
        "    class_weight=class_weights,\n",
        "    batch_size=32,\n",
        "    verbose=2,\n",
        "    callbacks=[es, mcp_save]\n",
        "  )\n",
        "\n",
        "  y_pred = model.predict(x_test, verbose=0)\n",
        "  y_pred_max = np.argmax(y_pred, axis=1).tolist()\n",
        "\n",
        "  print(\"Balanced Acc for: \")\n",
        "  bacc = balanced_accuracy_score(y_test, y_pred_max)\n",
        "  print (\"########## Balanced Acc: %0.8f ##########\" % bacc )\n",
        "\n",
        "  return model, bacc"
      ],
      "execution_count": 0,
      "outputs": [
        {
          "output_type": "stream",
          "text": [
            "Input shape: \n",
            "(1532, 20, 35)\n"
          ],
          "name": "stdout"
        }
      ]
    },
    {
      "cell_type": "markdown",
      "metadata": {
        "id": "AKA14Q2cvrHu",
        "colab_type": "text"
      },
      "source": [
        "Mi modelo está basado en Deep Learning, consistiendo en 3 bloques de Convolutional Layers muy parecido a la arquitectura VGG:"
      ]
    },
    {
      "cell_type": "code",
      "metadata": {
        "id": "ByJDTROavw1r",
        "colab_type": "code",
        "outputId": "8292d221-38f6-4dc7-d01e-bf9af0c880b8",
        "colab": {
          "base_uri": "https://localhost:8080/",
          "height": 1000
        }
      },
      "source": [
        "model, _ = generate_model([], [], [], [], disabled=True)\n",
        "plot_model(model, dpi=70)"
      ],
      "execution_count": 0,
      "outputs": [
        {
          "output_type": "stream",
          "text": [
            "Starting kfold iteration: 0\n"
          ],
          "name": "stdout"
        },
        {
          "output_type": "execute_result",
          "data": {
            "image/png": "[encoded data removed]",
            "text/plain": [
              "<IPython.core.display.Image object>"
            ]
          },
          "metadata": {
            "tags": []
          },
          "execution_count": 5
        }
      ]
    },
    {
      "cell_type": "markdown",
      "metadata": {
        "id": "GDmWPSD-n7QE",
        "colab_type": "text"
      },
      "source": [
        "Los hyperparameters fueron encontrados utilizando random search.\n",
        "\n",
        "Utilizamos Dropout en cada bloque y luego de las capas ocultas para evitar overfitting. El dataset es relativamente pequeño y muy susceptible overfitting  \n"
      ]
    },
    {
      "cell_type": "markdown",
      "metadata": {
        "id": "0opBVdrkouDH",
        "colab_type": "text"
      },
      "source": [
        "# ⚪ **6** Entrenamiento"
      ]
    },
    {
      "cell_type": "markdown",
      "metadata": {
        "id": "aX56pw5Xov6m",
        "colab_type": "text"
      },
      "source": [
        "* Comenzamos el entrenamiento usando StratifiedKFold y separando 70% para entrenar (training, validating) y 30% testing.\n",
        "\n",
        "\n",
        "* Hacemos **6** folds, 1/6 de los datos por fold son para validar en la iteración.\n",
        "\n",
        "\n",
        "* Finalmente ensamblamos los modelos.\n",
        "\n",
        "\n",
        "> Debido a que no pude fijar los numeros randoms utilicé Kfolds para obtener un resultado superior a modelos individuales.\n",
        "\n",
        "\n",
        "**El procedimiento es el siguiente:**\n",
        "\n",
        "Para cada Fold guardo los mejores modelos monitoreando su performance durante la fase de entrenamiento.\n",
        "\n",
        "Luego, teniendo la lista de los mejores modelos, realizo la predicción entre todos, ensamblando el resultado final.\n",
        "\n"
      ]
    },
    {
      "cell_type": "code",
      "metadata": {
        "id": "fK62_uvSbO2v",
        "colab_type": "code",
        "outputId": "173b857d-ed86-41b9-c343-14789ec90c42",
        "colab": {
          "base_uri": "https://localhost:8080/",
          "height": 1000
        }
      },
      "source": [
        "shutil.rmtree(MODELS_PATH)\n",
        "\n",
        "if not os.path.exists(MODELS_PATH):\n",
        "    os.makedirs(MODELS_PATH)\n",
        "\n",
        "n_folds = 6\n",
        "x, x_test, y, y_test = train_test_split(x, y, test_size=0.15, random_state=8, stratify=y)\n",
        "kfold = StratifiedKFold(n_folds, True, 1)\n",
        "scores, models = list(), list()\n",
        "iteration = 0\n",
        "for train_ix, test_ix in kfold.split(x, y):\n",
        "\ttrainX, trainy = x[train_ix], y[train_ix]\n",
        "\ttestX, testy = x[test_ix], y[test_ix]\n",
        "\tmodel, test_acc = generate_model(trainX, trainy, testX, testy, False, iteration)\n",
        "\tscores.append(test_acc)\n",
        "\titeration = iteration + 1\n",
        " \n",
        "print('Acc estimado %.3f (%.3f)' % (np.mean(scores), np.std(scores)))"
      ],
      "execution_count": 0,
      "outputs": [
        {
          "output_type": "stream",
          "text": [
            "Starting kfold iteration: 0\n",
            "Train on 1083 samples, validate on 219 samples\n",
            "Epoch 1/300\n",
            "1083/1083 - 1s - loss: 1.9890 - acc: 0.4109 - val_loss: 1.0450 - val_acc: 0.5434\n",
            "Epoch 2/300\n",
            "1083/1083 - 1s - loss: 0.9969 - acc: 0.4977 - val_loss: 1.0143 - val_acc: 0.5479\n",
            "Epoch 3/300\n",
            "1083/1083 - 1s - loss: 0.9670 - acc: 0.4958 - val_loss: 0.9542 - val_acc: 0.6256\n",
            "Epoch 4/300\n",
            "1083/1083 - 1s - loss: 0.9190 - acc: 0.5300 - val_loss: 0.9257 - val_acc: 0.5342\n",
            "Epoch 5/300\n",
            "1083/1083 - 1s - loss: 0.9288 - acc: 0.5374 - val_loss: 0.9374 - val_acc: 0.6438\n",
            "Epoch 6/300\n",
            "1083/1083 - 1s - loss: 0.8814 - acc: 0.5614 - val_loss: 0.8554 - val_acc: 0.6530\n",
            "Epoch 7/300\n",
            "1083/1083 - 1s - loss: 0.8741 - acc: 0.5512 - val_loss: 0.8542 - val_acc: 0.6164\n",
            "Epoch 8/300\n",
            "1083/1083 - 1s - loss: 0.8448 - acc: 0.6066 - val_loss: 0.8190 - val_acc: 0.6621\n",
            "Epoch 9/300\n",
            "1083/1083 - 1s - loss: 0.8220 - acc: 0.6316 - val_loss: 0.7982 - val_acc: 0.6484\n",
            "Epoch 10/300\n",
            "1083/1083 - 1s - loss: 0.7998 - acc: 0.6353 - val_loss: 0.8199 - val_acc: 0.7169\n",
            "Epoch 11/300\n",
            "1083/1083 - 1s - loss: 0.7767 - acc: 0.6445 - val_loss: 0.7662 - val_acc: 0.7489\n",
            "Epoch 12/300\n",
            "1083/1083 - 1s - loss: 0.7122 - acc: 0.6861 - val_loss: 0.6762 - val_acc: 0.7352\n",
            "Epoch 13/300\n",
            "1083/1083 - 1s - loss: 0.7109 - acc: 0.6925 - val_loss: 0.7397 - val_acc: 0.7671\n",
            "Epoch 14/300\n",
            "1083/1083 - 1s - loss: 0.6815 - acc: 0.7193 - val_loss: 0.6474 - val_acc: 0.7991\n",
            "Epoch 15/300\n",
            "1083/1083 - 1s - loss: 0.6511 - acc: 0.7313 - val_loss: 0.6434 - val_acc: 0.8174\n",
            "Epoch 16/300\n",
            "1083/1083 - 1s - loss: 0.6445 - acc: 0.7387 - val_loss: 0.5754 - val_acc: 0.7991\n",
            "Epoch 17/300\n",
            "1083/1083 - 1s - loss: 0.6394 - acc: 0.7516 - val_loss: 0.6612 - val_acc: 0.8219\n",
            "Epoch 18/300\n",
            "1083/1083 - 1s - loss: 0.6221 - acc: 0.7599 - val_loss: 0.5981 - val_acc: 0.8265\n",
            "Epoch 19/300\n",
            "1083/1083 - 1s - loss: 0.5799 - acc: 0.7701 - val_loss: 0.6350 - val_acc: 0.8402\n",
            "Epoch 20/300\n",
            "1083/1083 - 1s - loss: 0.5715 - acc: 0.7701 - val_loss: 0.5400 - val_acc: 0.8219\n",
            "Epoch 21/300\n",
            "1083/1083 - 1s - loss: 0.5391 - acc: 0.7793 - val_loss: 0.5371 - val_acc: 0.8265\n",
            "Epoch 22/300\n",
            "1083/1083 - 1s - loss: 0.5375 - acc: 0.7895 - val_loss: 0.5293 - val_acc: 0.8037\n",
            "Epoch 23/300\n",
            "1083/1083 - 1s - loss: 0.5477 - acc: 0.7867 - val_loss: 0.5521 - val_acc: 0.8174\n",
            "Epoch 24/300\n",
            "1083/1083 - 1s - loss: 0.5530 - acc: 0.7830 - val_loss: 0.5894 - val_acc: 0.8676\n",
            "Epoch 25/300\n",
            "1083/1083 - 1s - loss: 0.5781 - acc: 0.7839 - val_loss: 0.5083 - val_acc: 0.8311\n",
            "Epoch 26/300\n",
            "1083/1083 - 1s - loss: 0.5199 - acc: 0.7932 - val_loss: 0.5145 - val_acc: 0.8447\n",
            "Epoch 27/300\n",
            "1083/1083 - 1s - loss: 0.5123 - acc: 0.8061 - val_loss: 0.4751 - val_acc: 0.8539\n",
            "Epoch 28/300\n",
            "1083/1083 - 1s - loss: 0.5069 - acc: 0.8098 - val_loss: 0.5059 - val_acc: 0.8265\n",
            "Epoch 29/300\n",
            "1083/1083 - 1s - loss: 0.4989 - acc: 0.8070 - val_loss: 0.4835 - val_acc: 0.8493\n",
            "Epoch 30/300\n",
            "1083/1083 - 1s - loss: 0.4925 - acc: 0.8199 - val_loss: 0.4813 - val_acc: 0.8584\n",
            "Epoch 31/300\n",
            "1083/1083 - 1s - loss: 0.4748 - acc: 0.8255 - val_loss: 0.5192 - val_acc: 0.8767\n",
            "Epoch 32/300\n",
            "1083/1083 - 1s - loss: 0.4999 - acc: 0.8015 - val_loss: 0.5361 - val_acc: 0.8676\n",
            "Epoch 33/300\n",
            "1083/1083 - 1s - loss: 0.4647 - acc: 0.8227 - val_loss: 0.4288 - val_acc: 0.8630\n",
            "Epoch 34/300\n",
            "1083/1083 - 1s - loss: 0.4691 - acc: 0.8153 - val_loss: 0.4609 - val_acc: 0.8584\n",
            "Epoch 35/300\n",
            "1083/1083 - 1s - loss: 0.4728 - acc: 0.8264 - val_loss: 0.4467 - val_acc: 0.8676\n",
            "Epoch 36/300\n",
            "1083/1083 - 1s - loss: 0.4517 - acc: 0.8356 - val_loss: 0.4992 - val_acc: 0.8767\n",
            "Epoch 37/300\n",
            "1083/1083 - 1s - loss: 0.4291 - acc: 0.8246 - val_loss: 0.4252 - val_acc: 0.8630\n",
            "Epoch 38/300\n",
            "1083/1083 - 1s - loss: 0.4569 - acc: 0.8375 - val_loss: 0.4442 - val_acc: 0.8493\n",
            "Epoch 39/300\n",
            "1083/1083 - 1s - loss: 0.4857 - acc: 0.8172 - val_loss: 0.4729 - val_acc: 0.8219\n",
            "Epoch 40/300\n",
            "1083/1083 - 1s - loss: 0.4616 - acc: 0.8338 - val_loss: 0.5026 - val_acc: 0.8858\n",
            "Epoch 41/300\n",
            "1083/1083 - 1s - loss: 0.4080 - acc: 0.8449 - val_loss: 0.4449 - val_acc: 0.8721\n",
            "Epoch 42/300\n",
            "1083/1083 - 1s - loss: 0.4283 - acc: 0.8550 - val_loss: 0.4620 - val_acc: 0.8767\n",
            "Epoch 43/300\n",
            "1083/1083 - 1s - loss: 0.4196 - acc: 0.8403 - val_loss: 0.4734 - val_acc: 0.8630\n",
            "Epoch 44/300\n",
            "1083/1083 - 1s - loss: 0.4204 - acc: 0.8366 - val_loss: 0.4577 - val_acc: 0.8584\n",
            "Epoch 45/300\n",
            "1083/1083 - 1s - loss: 0.3915 - acc: 0.8550 - val_loss: 0.4799 - val_acc: 0.8676\n",
            "Epoch 46/300\n",
            "1083/1083 - 1s - loss: 0.4137 - acc: 0.8476 - val_loss: 0.4968 - val_acc: 0.8630\n",
            "Epoch 47/300\n",
            "1083/1083 - 1s - loss: 0.4047 - acc: 0.8486 - val_loss: 0.4297 - val_acc: 0.8493\n",
            "Epoch 00047: early stopping\n",
            "Balanced Acc for: \n",
            "########## Balanced Acc: 0.78399851 ##########\n",
            "Starting kfold iteration: 1\n",
            "Train on 1085 samples, validate on 217 samples\n",
            "Epoch 1/300\n",
            "1085/1085 - 2s - loss: 1.6532 - acc: 0.4571 - val_loss: 1.0534 - val_acc: 0.5392\n",
            "Epoch 2/300\n",
            "1085/1085 - 1s - loss: 1.0050 - acc: 0.5207 - val_loss: 1.0231 - val_acc: 0.5392\n",
            "Epoch 3/300\n",
            "1085/1085 - 1s - loss: 1.0072 - acc: 0.5124 - val_loss: 1.0157 - val_acc: 0.5392\n",
            "Epoch 4/300\n",
            "1085/1085 - 1s - loss: 0.9833 - acc: 0.5097 - val_loss: 1.0310 - val_acc: 0.5853\n",
            "Epoch 5/300\n",
            "1085/1085 - 1s - loss: 0.9795 - acc: 0.5115 - val_loss: 0.9904 - val_acc: 0.5438\n",
            "Epoch 6/300\n",
            "1085/1085 - 1s - loss: 0.9396 - acc: 0.5290 - val_loss: 0.9663 - val_acc: 0.5392\n",
            "Epoch 7/300\n",
            "1085/1085 - 1s - loss: 0.9218 - acc: 0.5382 - val_loss: 0.9192 - val_acc: 0.5438\n",
            "Epoch 8/300\n",
            "1085/1085 - 1s - loss: 0.9037 - acc: 0.5355 - val_loss: 0.9011 - val_acc: 0.5853\n",
            "Epoch 9/300\n",
            "1085/1085 - 1s - loss: 0.8595 - acc: 0.5576 - val_loss: 0.8524 - val_acc: 0.7097\n",
            "Epoch 10/300\n",
            "1085/1085 - 1s - loss: 0.8545 - acc: 0.5797 - val_loss: 0.8724 - val_acc: 0.7419\n",
            "Epoch 11/300\n",
            "1085/1085 - 1s - loss: 0.8117 - acc: 0.6129 - val_loss: 0.7860 - val_acc: 0.7235\n",
            "Epoch 12/300\n",
            "1085/1085 - 1s - loss: 0.7951 - acc: 0.6442 - val_loss: 0.7491 - val_acc: 0.7327\n",
            "Epoch 13/300\n",
            "1085/1085 - 1s - loss: 0.7503 - acc: 0.6673 - val_loss: 0.7624 - val_acc: 0.7235\n",
            "Epoch 14/300\n",
            "1085/1085 - 1s - loss: 0.7473 - acc: 0.6544 - val_loss: 0.7200 - val_acc: 0.7373\n",
            "Epoch 15/300\n",
            "1085/1085 - 1s - loss: 0.7267 - acc: 0.6866 - val_loss: 0.6885 - val_acc: 0.7097\n",
            "Epoch 16/300\n",
            "1085/1085 - 1s - loss: 0.6666 - acc: 0.7014 - val_loss: 0.6626 - val_acc: 0.7650\n",
            "Epoch 17/300\n",
            "1085/1085 - 1s - loss: 0.6461 - acc: 0.7198 - val_loss: 0.6805 - val_acc: 0.7834\n",
            "Epoch 18/300\n",
            "1085/1085 - 1s - loss: 0.6449 - acc: 0.7171 - val_loss: 0.6065 - val_acc: 0.7880\n",
            "Epoch 19/300\n",
            "1085/1085 - 1s - loss: 0.6637 - acc: 0.7143 - val_loss: 0.6876 - val_acc: 0.8249\n",
            "Epoch 20/300\n",
            "1085/1085 - 1s - loss: 0.6370 - acc: 0.7392 - val_loss: 0.6211 - val_acc: 0.7696\n",
            "Epoch 21/300\n",
            "1085/1085 - 1s - loss: 0.5881 - acc: 0.7484 - val_loss: 0.6409 - val_acc: 0.7788\n",
            "Epoch 22/300\n",
            "1085/1085 - 1s - loss: 0.5798 - acc: 0.7622 - val_loss: 0.5947 - val_acc: 0.7880\n",
            "Epoch 23/300\n",
            "1085/1085 - 1s - loss: 0.5794 - acc: 0.7594 - val_loss: 0.6254 - val_acc: 0.7465\n",
            "Epoch 24/300\n",
            "1085/1085 - 1s - loss: 0.5899 - acc: 0.7475 - val_loss: 0.5983 - val_acc: 0.8433\n",
            "Epoch 25/300\n",
            "1085/1085 - 1s - loss: 0.5725 - acc: 0.7788 - val_loss: 0.5466 - val_acc: 0.8157\n",
            "Epoch 26/300\n",
            "1085/1085 - 1s - loss: 0.5868 - acc: 0.7631 - val_loss: 0.6174 - val_acc: 0.8341\n",
            "Epoch 27/300\n",
            "1085/1085 - 1s - loss: 0.5456 - acc: 0.7714 - val_loss: 0.5803 - val_acc: 0.8664\n",
            "Epoch 28/300\n",
            "1085/1085 - 1s - loss: 0.5278 - acc: 0.8018 - val_loss: 0.5631 - val_acc: 0.8341\n",
            "Epoch 29/300\n",
            "1085/1085 - 1s - loss: 0.5490 - acc: 0.7788 - val_loss: 0.5532 - val_acc: 0.8664\n",
            "Epoch 30/300\n",
            "1085/1085 - 1s - loss: 0.5404 - acc: 0.7806 - val_loss: 0.5788 - val_acc: 0.8664\n",
            "Epoch 31/300\n",
            "1085/1085 - 1s - loss: 0.5586 - acc: 0.7724 - val_loss: 0.5859 - val_acc: 0.8479\n",
            "Epoch 32/300\n",
            "1085/1085 - 1s - loss: 0.5255 - acc: 0.7843 - val_loss: 0.5590 - val_acc: 0.8479\n",
            "Epoch 33/300\n",
            "1085/1085 - 1s - loss: 0.5042 - acc: 0.8055 - val_loss: 0.5346 - val_acc: 0.8664\n",
            "Epoch 34/300\n",
            "1085/1085 - 1s - loss: 0.4924 - acc: 0.8111 - val_loss: 0.5198 - val_acc: 0.8479\n",
            "Epoch 35/300\n",
            "1085/1085 - 1s - loss: 0.5014 - acc: 0.8184 - val_loss: 0.5309 - val_acc: 0.8618\n",
            "Epoch 36/300\n",
            "1085/1085 - 1s - loss: 0.4773 - acc: 0.8166 - val_loss: 0.5372 - val_acc: 0.8710\n",
            "Epoch 37/300\n",
            "1085/1085 - 1s - loss: 0.4774 - acc: 0.8212 - val_loss: 0.5220 - val_acc: 0.8618\n",
            "Epoch 38/300\n",
            "1085/1085 - 1s - loss: 0.4795 - acc: 0.8157 - val_loss: 0.5040 - val_acc: 0.8341\n",
            "Epoch 39/300\n",
            "1085/1085 - 1s - loss: 0.4778 - acc: 0.8230 - val_loss: 0.5302 - val_acc: 0.8525\n",
            "Epoch 40/300\n",
            "1085/1085 - 1s - loss: 0.4742 - acc: 0.8147 - val_loss: 0.5261 - val_acc: 0.8479\n",
            "Epoch 41/300\n",
            "1085/1085 - 1s - loss: 0.4645 - acc: 0.8184 - val_loss: 0.5296 - val_acc: 0.8525\n",
            "Epoch 42/300\n",
            "1085/1085 - 1s - loss: 0.4740 - acc: 0.8258 - val_loss: 0.5254 - val_acc: 0.8479\n",
            "Epoch 43/300\n",
            "1085/1085 - 1s - loss: 0.4610 - acc: 0.8194 - val_loss: 0.5405 - val_acc: 0.8571\n",
            "Epoch 44/300\n",
            "1085/1085 - 1s - loss: 0.4275 - acc: 0.8221 - val_loss: 0.5259 - val_acc: 0.8387\n",
            "Epoch 45/300\n",
            "1085/1085 - 1s - loss: 0.4435 - acc: 0.8267 - val_loss: 0.5139 - val_acc: 0.8479\n",
            "Epoch 46/300\n",
            "1085/1085 - 1s - loss: 0.4028 - acc: 0.8323 - val_loss: 0.5099 - val_acc: 0.8479\n",
            "Epoch 47/300\n",
            "1085/1085 - 1s - loss: 0.4397 - acc: 0.8286 - val_loss: 0.5041 - val_acc: 0.8525\n",
            "Epoch 48/300\n",
            "1085/1085 - 1s - loss: 0.4214 - acc: 0.8415 - val_loss: 0.4811 - val_acc: 0.8479\n",
            "Epoch 49/300\n",
            "1085/1085 - 1s - loss: 0.3959 - acc: 0.8507 - val_loss: 0.5110 - val_acc: 0.8295\n",
            "Epoch 50/300\n",
            "1085/1085 - 1s - loss: 0.4008 - acc: 0.8433 - val_loss: 0.5023 - val_acc: 0.8387\n",
            "Epoch 51/300\n",
            "1085/1085 - 1s - loss: 0.4006 - acc: 0.8415 - val_loss: 0.5054 - val_acc: 0.8525\n",
            "Epoch 52/300\n",
            "1085/1085 - 1s - loss: 0.3979 - acc: 0.8618 - val_loss: 0.4989 - val_acc: 0.8618\n",
            "Epoch 53/300\n",
            "1085/1085 - 1s - loss: 0.3639 - acc: 0.8618 - val_loss: 0.5105 - val_acc: 0.8341\n",
            "Epoch 54/300\n",
            "1085/1085 - 1s - loss: 0.3923 - acc: 0.8599 - val_loss: 0.5116 - val_acc: 0.8479\n",
            "Epoch 55/300\n",
            "1085/1085 - 1s - loss: 0.3907 - acc: 0.8608 - val_loss: 0.5008 - val_acc: 0.8433\n",
            "Epoch 56/300\n",
            "1085/1085 - 1s - loss: 0.3606 - acc: 0.8636 - val_loss: 0.4869 - val_acc: 0.8433\n",
            "Epoch 57/300\n",
            "1085/1085 - 1s - loss: 0.3373 - acc: 0.8756 - val_loss: 0.4557 - val_acc: 0.8479\n",
            "Epoch 58/300\n",
            "1085/1085 - 1s - loss: 0.3776 - acc: 0.8488 - val_loss: 0.4710 - val_acc: 0.8479\n",
            "Epoch 59/300\n",
            "1085/1085 - 1s - loss: 0.3445 - acc: 0.8636 - val_loss: 0.5214 - val_acc: 0.8295\n",
            "Epoch 60/300\n",
            "1085/1085 - 1s - loss: 0.3386 - acc: 0.8654 - val_loss: 0.4649 - val_acc: 0.8618\n",
            "Epoch 61/300\n",
            "1085/1085 - 1s - loss: 0.3470 - acc: 0.8664 - val_loss: 0.4577 - val_acc: 0.8571\n",
            "Epoch 62/300\n",
            "1085/1085 - 1s - loss: 0.3017 - acc: 0.8894 - val_loss: 0.4788 - val_acc: 0.8341\n",
            "Epoch 63/300\n",
            "1085/1085 - 1s - loss: 0.3082 - acc: 0.8811 - val_loss: 0.4866 - val_acc: 0.8479\n",
            "Epoch 64/300\n",
            "1085/1085 - 1s - loss: 0.3156 - acc: 0.8774 - val_loss: 0.4991 - val_acc: 0.8433\n",
            "Epoch 65/300\n",
            "1085/1085 - 1s - loss: 0.3505 - acc: 0.8700 - val_loss: 0.4843 - val_acc: 0.8525\n",
            "Epoch 66/300\n",
            "1085/1085 - 1s - loss: 0.3112 - acc: 0.8664 - val_loss: 0.4550 - val_acc: 0.8479\n",
            "Epoch 67/300\n",
            "1085/1085 - 1s - loss: 0.3052 - acc: 0.8747 - val_loss: 0.4574 - val_acc: 0.8433\n",
            "Epoch 68/300\n",
            "1085/1085 - 1s - loss: 0.3050 - acc: 0.8959 - val_loss: 0.4844 - val_acc: 0.8618\n",
            "Epoch 69/300\n",
            "1085/1085 - 1s - loss: 0.2929 - acc: 0.8848 - val_loss: 0.4499 - val_acc: 0.8525\n",
            "Epoch 70/300\n",
            "1085/1085 - 1s - loss: 0.2832 - acc: 0.8940 - val_loss: 0.4873 - val_acc: 0.8433\n",
            "Epoch 71/300\n",
            "1085/1085 - 1s - loss: 0.2813 - acc: 0.9023 - val_loss: 0.4680 - val_acc: 0.8525\n",
            "Epoch 72/300\n",
            "1085/1085 - 1s - loss: 0.2847 - acc: 0.8848 - val_loss: 0.4666 - val_acc: 0.8571\n",
            "Epoch 73/300\n",
            "1085/1085 - 1s - loss: 0.2751 - acc: 0.8903 - val_loss: 0.4644 - val_acc: 0.8571\n",
            "Epoch 74/300\n",
            "1085/1085 - 1s - loss: 0.2786 - acc: 0.8876 - val_loss: 0.5108 - val_acc: 0.8203\n",
            "Epoch 75/300\n",
            "1085/1085 - 1s - loss: 0.2676 - acc: 0.9014 - val_loss: 0.4871 - val_acc: 0.8525\n",
            "Epoch 76/300\n",
            "1085/1085 - 1s - loss: 0.2628 - acc: 0.8949 - val_loss: 0.5022 - val_acc: 0.8341\n",
            "Epoch 77/300\n",
            "1085/1085 - 1s - loss: 0.2303 - acc: 0.9088 - val_loss: 0.4861 - val_acc: 0.8433\n",
            "Epoch 78/300\n",
            "1085/1085 - 1s - loss: 0.2095 - acc: 0.9171 - val_loss: 0.5266 - val_acc: 0.8249\n",
            "Epoch 79/300\n",
            "1085/1085 - 1s - loss: 0.2324 - acc: 0.9078 - val_loss: 0.4718 - val_acc: 0.8433\n",
            "Epoch 00079: early stopping\n",
            "Balanced Acc for: \n",
            "########## Balanced Acc: 0.82118056 ##########\n",
            "Starting kfold iteration: 2\n",
            "Train on 1085 samples, validate on 217 samples\n",
            "Epoch 1/300\n",
            "1085/1085 - 2s - loss: 1.9805 - acc: 0.4083 - val_loss: 1.0296 - val_acc: 0.5392\n",
            "Epoch 2/300\n",
            "1085/1085 - 1s - loss: 1.0533 - acc: 0.4728 - val_loss: 1.0554 - val_acc: 0.5392\n",
            "Epoch 3/300\n",
            "1085/1085 - 1s - loss: 1.0133 - acc: 0.4940 - val_loss: 0.9932 - val_acc: 0.5392\n",
            "Epoch 4/300\n",
            "1085/1085 - 1s - loss: 0.9829 - acc: 0.4793 - val_loss: 0.9884 - val_acc: 0.5668\n",
            "Epoch 5/300\n",
            "1085/1085 - 1s - loss: 0.9784 - acc: 0.5124 - val_loss: 0.9346 - val_acc: 0.6313\n",
            "Epoch 6/300\n",
            "1085/1085 - 1s - loss: 0.9569 - acc: 0.5180 - val_loss: 0.8901 - val_acc: 0.5991\n",
            "Epoch 7/300\n",
            "1085/1085 - 1s - loss: 0.9380 - acc: 0.5318 - val_loss: 0.8651 - val_acc: 0.6452\n",
            "Epoch 8/300\n",
            "1085/1085 - 1s - loss: 0.8916 - acc: 0.5558 - val_loss: 0.8837 - val_acc: 0.6912\n",
            "Epoch 9/300\n",
            "1085/1085 - 1s - loss: 0.8716 - acc: 0.5687 - val_loss: 0.8396 - val_acc: 0.7558\n",
            "Epoch 10/300\n",
            "1085/1085 - 1s - loss: 0.8445 - acc: 0.5825 - val_loss: 0.8358 - val_acc: 0.7235\n",
            "Epoch 11/300\n",
            "1085/1085 - 1s - loss: 0.7976 - acc: 0.6166 - val_loss: 0.8438 - val_acc: 0.6866\n",
            "Epoch 12/300\n",
            "1085/1085 - 1s - loss: 0.7632 - acc: 0.6581 - val_loss: 0.6950 - val_acc: 0.7558\n",
            "Epoch 13/300\n",
            "1085/1085 - 1s - loss: 0.7487 - acc: 0.6599 - val_loss: 0.6841 - val_acc: 0.7788\n",
            "Epoch 14/300\n",
            "1085/1085 - 1s - loss: 0.7230 - acc: 0.7005 - val_loss: 0.6818 - val_acc: 0.7696\n",
            "Epoch 15/300\n",
            "1085/1085 - 1s - loss: 0.6746 - acc: 0.7226 - val_loss: 0.6248 - val_acc: 0.7696\n",
            "Epoch 16/300\n",
            "1085/1085 - 1s - loss: 0.6568 - acc: 0.7336 - val_loss: 0.6467 - val_acc: 0.7788\n",
            "Epoch 17/300\n",
            "1085/1085 - 1s - loss: 0.6521 - acc: 0.7272 - val_loss: 0.6296 - val_acc: 0.7696\n",
            "Epoch 18/300\n",
            "1085/1085 - 1s - loss: 0.6677 - acc: 0.7429 - val_loss: 0.5950 - val_acc: 0.7788\n",
            "Epoch 19/300\n",
            "1085/1085 - 1s - loss: 0.6357 - acc: 0.7742 - val_loss: 0.6474 - val_acc: 0.8157\n",
            "Epoch 20/300\n",
            "1085/1085 - 1s - loss: 0.6156 - acc: 0.7788 - val_loss: 0.6281 - val_acc: 0.7788\n",
            "Epoch 21/300\n",
            "1085/1085 - 1s - loss: 0.5792 - acc: 0.7502 - val_loss: 0.5997 - val_acc: 0.7788\n",
            "Epoch 22/300\n",
            "1085/1085 - 1s - loss: 0.5769 - acc: 0.7806 - val_loss: 0.5786 - val_acc: 0.7880\n",
            "Epoch 23/300\n",
            "1085/1085 - 1s - loss: 0.5839 - acc: 0.8092 - val_loss: 0.5917 - val_acc: 0.7696\n",
            "Epoch 24/300\n",
            "1085/1085 - 1s - loss: 0.5755 - acc: 0.7751 - val_loss: 0.5436 - val_acc: 0.7834\n",
            "Epoch 25/300\n",
            "1085/1085 - 1s - loss: 0.5673 - acc: 0.8018 - val_loss: 0.5721 - val_acc: 0.8018\n",
            "Epoch 26/300\n",
            "1085/1085 - 1s - loss: 0.5284 - acc: 0.8018 - val_loss: 0.5633 - val_acc: 0.8065\n",
            "Epoch 27/300\n",
            "1085/1085 - 1s - loss: 0.5772 - acc: 0.7871 - val_loss: 0.5684 - val_acc: 0.7926\n",
            "Epoch 28/300\n",
            "1085/1085 - 1s - loss: 0.5329 - acc: 0.7963 - val_loss: 0.5305 - val_acc: 0.7972\n",
            "Epoch 29/300\n",
            "1085/1085 - 1s - loss: 0.4951 - acc: 0.8194 - val_loss: 0.5166 - val_acc: 0.8157\n",
            "Epoch 30/300\n",
            "1085/1085 - 1s - loss: 0.5285 - acc: 0.8046 - val_loss: 0.5291 - val_acc: 0.8065\n",
            "Epoch 31/300\n",
            "1085/1085 - 1s - loss: 0.5147 - acc: 0.7945 - val_loss: 0.5469 - val_acc: 0.8111\n",
            "Epoch 32/300\n",
            "1085/1085 - 1s - loss: 0.5045 - acc: 0.8138 - val_loss: 0.4999 - val_acc: 0.8111\n",
            "Epoch 33/300\n",
            "1085/1085 - 1s - loss: 0.4944 - acc: 0.8221 - val_loss: 0.5302 - val_acc: 0.8341\n",
            "Epoch 34/300\n",
            "1085/1085 - 1s - loss: 0.4821 - acc: 0.8249 - val_loss: 0.5267 - val_acc: 0.8249\n",
            "Epoch 35/300\n",
            "1085/1085 - 1s - loss: 0.4726 - acc: 0.8240 - val_loss: 0.5671 - val_acc: 0.7972\n",
            "Epoch 36/300\n",
            "1085/1085 - 1s - loss: 0.4891 - acc: 0.8267 - val_loss: 0.5204 - val_acc: 0.8111\n",
            "Epoch 37/300\n",
            "1085/1085 - 1s - loss: 0.4931 - acc: 0.8120 - val_loss: 0.5416 - val_acc: 0.8341\n",
            "Epoch 38/300\n",
            "1085/1085 - 1s - loss: 0.4838 - acc: 0.8184 - val_loss: 0.5090 - val_acc: 0.8295\n",
            "Epoch 39/300\n",
            "1085/1085 - 1s - loss: 0.4578 - acc: 0.8424 - val_loss: 0.5032 - val_acc: 0.8203\n",
            "Epoch 40/300\n",
            "1085/1085 - 1s - loss: 0.4530 - acc: 0.8313 - val_loss: 0.4895 - val_acc: 0.8249\n",
            "Epoch 41/300\n",
            "1085/1085 - 1s - loss: 0.4624 - acc: 0.8323 - val_loss: 0.5166 - val_acc: 0.8111\n",
            "Epoch 42/300\n",
            "1085/1085 - 1s - loss: 0.4365 - acc: 0.8516 - val_loss: 0.5535 - val_acc: 0.8157\n",
            "Epoch 43/300\n",
            "1085/1085 - 1s - loss: 0.4526 - acc: 0.8433 - val_loss: 0.4876 - val_acc: 0.8203\n",
            "Epoch 44/300\n",
            "1085/1085 - 1s - loss: 0.4238 - acc: 0.8387 - val_loss: 0.5462 - val_acc: 0.8479\n",
            "Epoch 45/300\n",
            "1085/1085 - 1s - loss: 0.4368 - acc: 0.8470 - val_loss: 0.4906 - val_acc: 0.8341\n",
            "Epoch 46/300\n",
            "1085/1085 - 1s - loss: 0.4293 - acc: 0.8525 - val_loss: 0.4928 - val_acc: 0.8203\n",
            "Epoch 47/300\n",
            "1085/1085 - 1s - loss: 0.4014 - acc: 0.8581 - val_loss: 0.4815 - val_acc: 0.8157\n",
            "Epoch 48/300\n",
            "1085/1085 - 1s - loss: 0.4099 - acc: 0.8599 - val_loss: 0.4502 - val_acc: 0.8341\n",
            "Epoch 49/300\n",
            "1085/1085 - 1s - loss: 0.4105 - acc: 0.8562 - val_loss: 0.4780 - val_acc: 0.8618\n",
            "Epoch 50/300\n",
            "1085/1085 - 1s - loss: 0.4095 - acc: 0.8599 - val_loss: 0.4568 - val_acc: 0.8433\n",
            "Epoch 51/300\n",
            "1085/1085 - 1s - loss: 0.4150 - acc: 0.8544 - val_loss: 0.4462 - val_acc: 0.8525\n",
            "Epoch 52/300\n",
            "1085/1085 - 1s - loss: 0.3948 - acc: 0.8498 - val_loss: 0.5111 - val_acc: 0.8295\n",
            "Epoch 53/300\n",
            "1085/1085 - 1s - loss: 0.4202 - acc: 0.8415 - val_loss: 0.5299 - val_acc: 0.8111\n",
            "Epoch 54/300\n",
            "1085/1085 - 1s - loss: 0.3915 - acc: 0.8599 - val_loss: 0.4489 - val_acc: 0.8433\n",
            "Epoch 55/300\n",
            "1085/1085 - 1s - loss: 0.4204 - acc: 0.8470 - val_loss: 0.4590 - val_acc: 0.8433\n",
            "Epoch 56/300\n",
            "1085/1085 - 1s - loss: 0.3905 - acc: 0.8488 - val_loss: 0.4698 - val_acc: 0.8479\n",
            "Epoch 57/300\n",
            "1085/1085 - 1s - loss: 0.3446 - acc: 0.8728 - val_loss: 0.4770 - val_acc: 0.8203\n",
            "Epoch 58/300\n",
            "1085/1085 - 1s - loss: 0.3487 - acc: 0.8719 - val_loss: 0.4281 - val_acc: 0.8525\n",
            "Epoch 59/300\n",
            "1085/1085 - 1s - loss: 0.3374 - acc: 0.8820 - val_loss: 0.4677 - val_acc: 0.8479\n",
            "Epoch 60/300\n",
            "1085/1085 - 1s - loss: 0.3393 - acc: 0.8811 - val_loss: 0.4386 - val_acc: 0.8479\n",
            "Epoch 61/300\n",
            "1085/1085 - 1s - loss: 0.3307 - acc: 0.8857 - val_loss: 0.4330 - val_acc: 0.8387\n",
            "Epoch 62/300\n",
            "1085/1085 - 1s - loss: 0.3313 - acc: 0.8719 - val_loss: 0.4406 - val_acc: 0.8433\n",
            "Epoch 63/300\n",
            "1085/1085 - 1s - loss: 0.3204 - acc: 0.8682 - val_loss: 0.4007 - val_acc: 0.8479\n",
            "Epoch 64/300\n",
            "1085/1085 - 1s - loss: 0.3226 - acc: 0.8728 - val_loss: 0.4321 - val_acc: 0.8433\n",
            "Epoch 65/300\n",
            "1085/1085 - 1s - loss: 0.3040 - acc: 0.8811 - val_loss: 0.4074 - val_acc: 0.8571\n",
            "Epoch 66/300\n",
            "1085/1085 - 1s - loss: 0.2909 - acc: 0.8802 - val_loss: 0.4237 - val_acc: 0.8479\n",
            "Epoch 67/300\n",
            "1085/1085 - 1s - loss: 0.2991 - acc: 0.8885 - val_loss: 0.4315 - val_acc: 0.8341\n",
            "Epoch 68/300\n",
            "1085/1085 - 1s - loss: 0.2862 - acc: 0.8912 - val_loss: 0.4241 - val_acc: 0.8341\n",
            "Epoch 69/300\n",
            "1085/1085 - 1s - loss: 0.3083 - acc: 0.8811 - val_loss: 0.4173 - val_acc: 0.8479\n",
            "Epoch 70/300\n",
            "1085/1085 - 1s - loss: 0.2906 - acc: 0.8848 - val_loss: 0.4074 - val_acc: 0.8387\n",
            "Epoch 71/300\n",
            "1085/1085 - 1s - loss: 0.2902 - acc: 0.8931 - val_loss: 0.3916 - val_acc: 0.8618\n",
            "Epoch 72/300\n",
            "1085/1085 - 1s - loss: 0.3130 - acc: 0.8839 - val_loss: 0.4338 - val_acc: 0.8433\n",
            "Epoch 73/300\n",
            "1085/1085 - 1s - loss: 0.2549 - acc: 0.8940 - val_loss: 0.4509 - val_acc: 0.8295\n",
            "Epoch 74/300\n",
            "1085/1085 - 1s - loss: 0.2717 - acc: 0.8968 - val_loss: 0.4305 - val_acc: 0.8525\n",
            "Epoch 75/300\n",
            "1085/1085 - 1s - loss: 0.2602 - acc: 0.8949 - val_loss: 0.3974 - val_acc: 0.8525\n",
            "Epoch 76/300\n",
            "1085/1085 - 1s - loss: 0.2536 - acc: 0.8977 - val_loss: 0.3851 - val_acc: 0.8618\n",
            "Epoch 77/300\n",
            "1085/1085 - 1s - loss: 0.2370 - acc: 0.9097 - val_loss: 0.3675 - val_acc: 0.8710\n",
            "Epoch 78/300\n",
            "1085/1085 - 1s - loss: 0.2306 - acc: 0.9115 - val_loss: 0.4242 - val_acc: 0.8387\n",
            "Epoch 79/300\n",
            "1085/1085 - 1s - loss: 0.2211 - acc: 0.9005 - val_loss: 0.3936 - val_acc: 0.8295\n",
            "Epoch 80/300\n",
            "1085/1085 - 1s - loss: 0.2202 - acc: 0.9106 - val_loss: 0.3847 - val_acc: 0.8433\n",
            "Epoch 81/300\n",
            "1085/1085 - 1s - loss: 0.2082 - acc: 0.9161 - val_loss: 0.3629 - val_acc: 0.8710\n",
            "Epoch 82/300\n",
            "1085/1085 - 1s - loss: 0.1954 - acc: 0.9300 - val_loss: 0.3631 - val_acc: 0.8479\n",
            "Epoch 83/300\n",
            "1085/1085 - 1s - loss: 0.2011 - acc: 0.9207 - val_loss: 0.3593 - val_acc: 0.8571\n",
            "Epoch 84/300\n",
            "1085/1085 - 1s - loss: 0.2355 - acc: 0.9106 - val_loss: 0.3696 - val_acc: 0.8618\n",
            "Epoch 85/300\n",
            "1085/1085 - 1s - loss: 0.1904 - acc: 0.9272 - val_loss: 0.3654 - val_acc: 0.8571\n",
            "Epoch 86/300\n",
            "1085/1085 - 1s - loss: 0.1962 - acc: 0.9198 - val_loss: 0.3768 - val_acc: 0.8479\n",
            "Epoch 87/300\n",
            "1085/1085 - 1s - loss: 0.1745 - acc: 0.9327 - val_loss: 0.3681 - val_acc: 0.8710\n",
            "Epoch 88/300\n",
            "1085/1085 - 1s - loss: 0.1913 - acc: 0.9217 - val_loss: 0.4029 - val_acc: 0.8341\n",
            "Epoch 89/300\n",
            "1085/1085 - 1s - loss: 0.1658 - acc: 0.9327 - val_loss: 0.3790 - val_acc: 0.8571\n",
            "Epoch 90/300\n",
            "1085/1085 - 1s - loss: 0.1729 - acc: 0.9364 - val_loss: 0.3775 - val_acc: 0.8525\n",
            "Epoch 91/300\n",
            "1085/1085 - 1s - loss: 0.1784 - acc: 0.9300 - val_loss: 0.3748 - val_acc: 0.8479\n",
            "Epoch 92/300\n",
            "1085/1085 - 1s - loss: 0.1640 - acc: 0.9364 - val_loss: 0.3772 - val_acc: 0.8525\n",
            "Epoch 93/300\n",
            "1085/1085 - 1s - loss: 0.1535 - acc: 0.9355 - val_loss: 0.3911 - val_acc: 0.8433\n",
            "Epoch 00093: early stopping\n",
            "Balanced Acc for: \n",
            "########## Balanced Acc: 0.83230947 ##########\n",
            "Starting kfold iteration: 3\n",
            "Train on 1085 samples, validate on 217 samples\n",
            "Epoch 1/300\n",
            "1085/1085 - 2s - loss: 2.3019 - acc: 0.4452 - val_loss: 1.0040 - val_acc: 0.5392\n",
            "Epoch 2/300\n",
            "1085/1085 - 1s - loss: 1.0026 - acc: 0.5088 - val_loss: 1.0208 - val_acc: 0.5392\n",
            "Epoch 3/300\n",
            "1085/1085 - 1s - loss: 0.9898 - acc: 0.5346 - val_loss: 1.0079 - val_acc: 0.5392\n",
            "Epoch 4/300\n",
            "1085/1085 - 1s - loss: 0.9620 - acc: 0.5253 - val_loss: 0.9706 - val_acc: 0.5392\n",
            "Epoch 5/300\n",
            "1085/1085 - 1s - loss: 0.9259 - acc: 0.5465 - val_loss: 0.9751 - val_acc: 0.5668\n",
            "Epoch 6/300\n",
            "1085/1085 - 1s - loss: 0.9094 - acc: 0.5410 - val_loss: 0.9132 - val_acc: 0.5530\n",
            "Epoch 7/300\n",
            "1085/1085 - 1s - loss: 0.8899 - acc: 0.5659 - val_loss: 0.8870 - val_acc: 0.6820\n",
            "Epoch 8/300\n",
            "1085/1085 - 1s - loss: 0.8658 - acc: 0.6055 - val_loss: 0.8871 - val_acc: 0.6498\n",
            "Epoch 9/300\n",
            "1085/1085 - 1s - loss: 0.8482 - acc: 0.5972 - val_loss: 0.7999 - val_acc: 0.6959\n",
            "Epoch 10/300\n",
            "1085/1085 - 1s - loss: 0.7630 - acc: 0.6507 - val_loss: 0.6985 - val_acc: 0.7604\n",
            "Epoch 11/300\n",
            "1085/1085 - 1s - loss: 0.7171 - acc: 0.6931 - val_loss: 0.6852 - val_acc: 0.7696\n",
            "Epoch 12/300\n",
            "1085/1085 - 1s - loss: 0.6736 - acc: 0.7300 - val_loss: 0.6649 - val_acc: 0.7650\n",
            "Epoch 13/300\n",
            "1085/1085 - 1s - loss: 0.6655 - acc: 0.7290 - val_loss: 0.6462 - val_acc: 0.8249\n",
            "Epoch 14/300\n",
            "1085/1085 - 1s - loss: 0.6317 - acc: 0.7512 - val_loss: 0.6549 - val_acc: 0.8111\n",
            "Epoch 15/300\n",
            "1085/1085 - 1s - loss: 0.6559 - acc: 0.7226 - val_loss: 0.6370 - val_acc: 0.7696\n",
            "Epoch 16/300\n",
            "1085/1085 - 1s - loss: 0.6155 - acc: 0.7512 - val_loss: 0.6150 - val_acc: 0.8249\n",
            "Epoch 17/300\n",
            "1085/1085 - 1s - loss: 0.5821 - acc: 0.7659 - val_loss: 0.5697 - val_acc: 0.8341\n",
            "Epoch 18/300\n",
            "1085/1085 - 1s - loss: 0.5573 - acc: 0.7945 - val_loss: 0.5654 - val_acc: 0.8387\n",
            "Epoch 19/300\n",
            "1085/1085 - 1s - loss: 0.5688 - acc: 0.7843 - val_loss: 0.5736 - val_acc: 0.8341\n",
            "Epoch 20/300\n",
            "1085/1085 - 1s - loss: 0.5680 - acc: 0.7862 - val_loss: 0.5649 - val_acc: 0.8295\n",
            "Epoch 21/300\n",
            "1085/1085 - 1s - loss: 0.5365 - acc: 0.7871 - val_loss: 0.5776 - val_acc: 0.8249\n",
            "Epoch 22/300\n",
            "1085/1085 - 1s - loss: 0.5314 - acc: 0.7899 - val_loss: 0.5430 - val_acc: 0.8295\n",
            "Epoch 23/300\n",
            "1085/1085 - 1s - loss: 0.5094 - acc: 0.8009 - val_loss: 0.5670 - val_acc: 0.8433\n",
            "Epoch 24/300\n",
            "1085/1085 - 1s - loss: 0.4927 - acc: 0.8230 - val_loss: 0.5250 - val_acc: 0.8479\n",
            "Epoch 25/300\n",
            "1085/1085 - 1s - loss: 0.5199 - acc: 0.8092 - val_loss: 0.5304 - val_acc: 0.8525\n",
            "Epoch 26/300\n",
            "1085/1085 - 1s - loss: 0.5094 - acc: 0.8101 - val_loss: 0.5469 - val_acc: 0.8479\n",
            "Epoch 27/300\n",
            "1085/1085 - 1s - loss: 0.4725 - acc: 0.8295 - val_loss: 0.5183 - val_acc: 0.8479\n",
            "Epoch 28/300\n",
            "1085/1085 - 1s - loss: 0.4665 - acc: 0.8101 - val_loss: 0.4909 - val_acc: 0.8387\n",
            "Epoch 29/300\n",
            "1085/1085 - 1s - loss: 0.4860 - acc: 0.8092 - val_loss: 0.5759 - val_acc: 0.8479\n",
            "Epoch 30/300\n",
            "1085/1085 - 1s - loss: 0.4732 - acc: 0.8350 - val_loss: 0.6119 - val_acc: 0.8111\n",
            "Epoch 31/300\n",
            "1085/1085 - 1s - loss: 0.4756 - acc: 0.8138 - val_loss: 0.5042 - val_acc: 0.8387\n",
            "Epoch 32/300\n",
            "1085/1085 - 1s - loss: 0.4498 - acc: 0.8313 - val_loss: 0.5673 - val_acc: 0.8571\n",
            "Epoch 33/300\n",
            "1085/1085 - 1s - loss: 0.4479 - acc: 0.8332 - val_loss: 0.5114 - val_acc: 0.8387\n",
            "Epoch 34/300\n",
            "1085/1085 - 1s - loss: 0.4478 - acc: 0.8424 - val_loss: 0.4981 - val_acc: 0.8387\n",
            "Epoch 35/300\n",
            "1085/1085 - 1s - loss: 0.4288 - acc: 0.8516 - val_loss: 0.4744 - val_acc: 0.8479\n",
            "Epoch 36/300\n",
            "1085/1085 - 1s - loss: 0.4257 - acc: 0.8470 - val_loss: 0.4675 - val_acc: 0.8433\n",
            "Epoch 37/300\n",
            "1085/1085 - 1s - loss: 0.4467 - acc: 0.8230 - val_loss: 0.4798 - val_acc: 0.8387\n",
            "Epoch 38/300\n",
            "1085/1085 - 1s - loss: 0.4121 - acc: 0.8461 - val_loss: 0.4721 - val_acc: 0.8525\n",
            "Epoch 39/300\n",
            "1085/1085 - 1s - loss: 0.4178 - acc: 0.8442 - val_loss: 0.4893 - val_acc: 0.8387\n",
            "Epoch 40/300\n",
            "1085/1085 - 1s - loss: 0.3997 - acc: 0.8599 - val_loss: 0.5016 - val_acc: 0.8525\n",
            "Epoch 41/300\n",
            "1085/1085 - 1s - loss: 0.4027 - acc: 0.8544 - val_loss: 0.4755 - val_acc: 0.8387\n",
            "Epoch 42/300\n",
            "1085/1085 - 1s - loss: 0.3720 - acc: 0.8608 - val_loss: 0.4680 - val_acc: 0.8433\n",
            "Epoch 43/300\n",
            "1085/1085 - 1s - loss: 0.3784 - acc: 0.8581 - val_loss: 0.4764 - val_acc: 0.8571\n",
            "Epoch 44/300\n",
            "1085/1085 - 1s - loss: 0.3644 - acc: 0.8645 - val_loss: 0.4836 - val_acc: 0.8571\n",
            "Epoch 45/300\n",
            "1085/1085 - 1s - loss: 0.3996 - acc: 0.8488 - val_loss: 0.4895 - val_acc: 0.8433\n",
            "Epoch 46/300\n",
            "1085/1085 - 1s - loss: 0.3584 - acc: 0.8682 - val_loss: 0.4381 - val_acc: 0.8341\n",
            "Epoch 47/300\n",
            "1085/1085 - 1s - loss: 0.3605 - acc: 0.8673 - val_loss: 0.4587 - val_acc: 0.8571\n",
            "Epoch 48/300\n",
            "1085/1085 - 1s - loss: 0.3751 - acc: 0.8618 - val_loss: 0.4484 - val_acc: 0.8664\n",
            "Epoch 49/300\n",
            "1085/1085 - 1s - loss: 0.3681 - acc: 0.8590 - val_loss: 0.4561 - val_acc: 0.8479\n",
            "Epoch 50/300\n",
            "1085/1085 - 1s - loss: 0.3380 - acc: 0.8710 - val_loss: 0.4731 - val_acc: 0.8433\n",
            "Epoch 51/300\n",
            "1085/1085 - 1s - loss: 0.3388 - acc: 0.8700 - val_loss: 0.5004 - val_acc: 0.8479\n",
            "Epoch 52/300\n",
            "1085/1085 - 1s - loss: 0.3408 - acc: 0.8636 - val_loss: 0.4793 - val_acc: 0.8295\n",
            "Epoch 53/300\n",
            "1085/1085 - 1s - loss: 0.3324 - acc: 0.8783 - val_loss: 0.5040 - val_acc: 0.8341\n",
            "Epoch 54/300\n",
            "1085/1085 - 1s - loss: 0.3439 - acc: 0.8737 - val_loss: 0.4619 - val_acc: 0.8387\n",
            "Epoch 55/300\n",
            "1085/1085 - 1s - loss: 0.3057 - acc: 0.8949 - val_loss: 0.4801 - val_acc: 0.8341\n",
            "Epoch 56/300\n",
            "1085/1085 - 1s - loss: 0.3360 - acc: 0.8774 - val_loss: 0.4396 - val_acc: 0.8525\n",
            "Epoch 00056: early stopping\n",
            "Balanced Acc for: \n",
            "########## Balanced Acc: 0.77929131 ##########\n",
            "Starting kfold iteration: 4\n",
            "Train on 1086 samples, validate on 216 samples\n",
            "Epoch 1/300\n",
            "1086/1086 - 2s - loss: 2.6766 - acc: 0.4319 - val_loss: 1.0599 - val_acc: 0.5417\n",
            "Epoch 2/300\n",
            "1086/1086 - 1s - loss: 1.0589 - acc: 0.4659 - val_loss: 1.0600 - val_acc: 0.5185\n",
            "Epoch 3/300\n",
            "1086/1086 - 1s - loss: 1.0482 - acc: 0.4825 - val_loss: 1.0250 - val_acc: 0.5417\n",
            "Epoch 4/300\n",
            "1086/1086 - 1s - loss: 1.0236 - acc: 0.5258 - val_loss: 1.0140 - val_acc: 0.5417\n",
            "Epoch 5/300\n",
            "1086/1086 - 1s - loss: 1.0153 - acc: 0.5396 - val_loss: 1.0318 - val_acc: 0.5463\n",
            "Epoch 6/300\n",
            "1086/1086 - 1s - loss: 1.0297 - acc: 0.5350 - val_loss: 1.0434 - val_acc: 0.5417\n",
            "Epoch 7/300\n",
            "1086/1086 - 1s - loss: 1.0120 - acc: 0.5359 - val_loss: 1.0374 - val_acc: 0.5417\n",
            "Epoch 8/300\n",
            "1086/1086 - 1s - loss: 0.9901 - acc: 0.5396 - val_loss: 1.0389 - val_acc: 0.5417\n",
            "Epoch 9/300\n",
            "1086/1086 - 1s - loss: 0.9927 - acc: 0.5378 - val_loss: 1.0221 - val_acc: 0.5417\n",
            "Epoch 10/300\n",
            "1086/1086 - 1s - loss: 0.9958 - acc: 0.5442 - val_loss: 1.0283 - val_acc: 0.5417\n",
            "Epoch 11/300\n",
            "1086/1086 - 1s - loss: 0.9931 - acc: 0.5295 - val_loss: 1.0026 - val_acc: 0.5417\n",
            "Epoch 12/300\n",
            "1086/1086 - 1s - loss: 0.9940 - acc: 0.5424 - val_loss: 0.9898 - val_acc: 0.5417\n",
            "Epoch 13/300\n",
            "1086/1086 - 1s - loss: 0.9810 - acc: 0.5387 - val_loss: 0.9845 - val_acc: 0.5417\n",
            "Epoch 14/300\n",
            "1086/1086 - 1s - loss: 0.9741 - acc: 0.5387 - val_loss: 0.9721 - val_acc: 0.5417\n",
            "Epoch 15/300\n",
            "1086/1086 - 1s - loss: 0.9694 - acc: 0.5405 - val_loss: 1.0034 - val_acc: 0.5417\n",
            "Epoch 16/300\n",
            "1086/1086 - 1s - loss: 0.9734 - acc: 0.5396 - val_loss: 0.9701 - val_acc: 0.5417\n",
            "Epoch 17/300\n",
            "1086/1086 - 1s - loss: 0.9587 - acc: 0.5387 - val_loss: 0.9580 - val_acc: 0.5417\n",
            "Epoch 18/300\n",
            "1086/1086 - 1s - loss: 0.9397 - acc: 0.5451 - val_loss: 0.9115 - val_acc: 0.5556\n",
            "Epoch 19/300\n",
            "1086/1086 - 1s - loss: 0.9275 - acc: 0.5433 - val_loss: 0.8777 - val_acc: 0.5926\n",
            "Epoch 20/300\n",
            "1086/1086 - 1s - loss: 0.9196 - acc: 0.5488 - val_loss: 0.9182 - val_acc: 0.5417\n",
            "Epoch 21/300\n",
            "1086/1086 - 1s - loss: 0.9126 - acc: 0.5414 - val_loss: 0.9526 - val_acc: 0.5370\n",
            "Epoch 22/300\n",
            "1086/1086 - 1s - loss: 0.9309 - acc: 0.5396 - val_loss: 0.8662 - val_acc: 0.5694\n",
            "Epoch 23/300\n",
            "1086/1086 - 1s - loss: 0.8641 - acc: 0.5672 - val_loss: 0.8311 - val_acc: 0.5972\n",
            "Epoch 24/300\n",
            "1086/1086 - 1s - loss: 0.8484 - acc: 0.5755 - val_loss: 0.8469 - val_acc: 0.6806\n",
            "Epoch 25/300\n",
            "1086/1086 - 1s - loss: 0.8760 - acc: 0.5580 - val_loss: 0.8151 - val_acc: 0.6204\n",
            "Epoch 26/300\n",
            "1086/1086 - 1s - loss: 0.8736 - acc: 0.5543 - val_loss: 0.8246 - val_acc: 0.6111\n",
            "Epoch 27/300\n",
            "1086/1086 - 1s - loss: 0.8891 - acc: 0.5700 - val_loss: 0.8597 - val_acc: 0.6713\n",
            "Epoch 28/300\n",
            "1086/1086 - 1s - loss: 0.8157 - acc: 0.6335 - val_loss: 0.7910 - val_acc: 0.7500\n",
            "Epoch 29/300\n",
            "1086/1086 - 1s - loss: 0.7559 - acc: 0.6731 - val_loss: 0.7822 - val_acc: 0.7130\n",
            "Epoch 30/300\n",
            "1086/1086 - 1s - loss: 0.7393 - acc: 0.6768 - val_loss: 0.7414 - val_acc: 0.7685\n",
            "Epoch 31/300\n",
            "1086/1086 - 1s - loss: 0.6629 - acc: 0.7109 - val_loss: 0.6578 - val_acc: 0.7407\n",
            "Epoch 32/300\n",
            "1086/1086 - 1s - loss: 0.6718 - acc: 0.7228 - val_loss: 0.6401 - val_acc: 0.7870\n",
            "Epoch 33/300\n",
            "1086/1086 - 1s - loss: 0.6199 - acc: 0.7265 - val_loss: 0.6580 - val_acc: 0.7870\n",
            "Epoch 34/300\n",
            "1086/1086 - 1s - loss: 0.6487 - acc: 0.7413 - val_loss: 0.6707 - val_acc: 0.8009\n",
            "Epoch 35/300\n",
            "1086/1086 - 1s - loss: 0.6028 - acc: 0.7624 - val_loss: 0.6773 - val_acc: 0.7870\n",
            "Epoch 36/300\n",
            "1086/1086 - 1s - loss: 0.5739 - acc: 0.7551 - val_loss: 0.6417 - val_acc: 0.8102\n",
            "Epoch 37/300\n",
            "1086/1086 - 1s - loss: 0.6350 - acc: 0.7422 - val_loss: 0.6672 - val_acc: 0.6667\n",
            "Epoch 38/300\n",
            "1086/1086 - 1s - loss: 0.6206 - acc: 0.7523 - val_loss: 0.6200 - val_acc: 0.8102\n",
            "Epoch 39/300\n",
            "1086/1086 - 1s - loss: 0.5298 - acc: 0.7864 - val_loss: 0.6755 - val_acc: 0.8009\n",
            "Epoch 40/300\n",
            "1086/1086 - 1s - loss: 0.5486 - acc: 0.7744 - val_loss: 0.6361 - val_acc: 0.8241\n",
            "Epoch 41/300\n",
            "1086/1086 - 1s - loss: 0.5053 - acc: 0.8039 - val_loss: 0.5755 - val_acc: 0.8009\n",
            "Epoch 42/300\n",
            "1086/1086 - 1s - loss: 0.5260 - acc: 0.8029 - val_loss: 0.5708 - val_acc: 0.8102\n",
            "Epoch 43/300\n",
            "1086/1086 - 1s - loss: 0.5246 - acc: 0.7974 - val_loss: 0.5782 - val_acc: 0.8009\n",
            "Epoch 44/300\n",
            "1086/1086 - 1s - loss: 0.4900 - acc: 0.8039 - val_loss: 0.6116 - val_acc: 0.8102\n",
            "Epoch 45/300\n",
            "1086/1086 - 1s - loss: 0.5039 - acc: 0.7965 - val_loss: 0.5650 - val_acc: 0.8009\n",
            "Epoch 46/300\n",
            "1086/1086 - 1s - loss: 0.4985 - acc: 0.8048 - val_loss: 0.5998 - val_acc: 0.8194\n",
            "Epoch 47/300\n",
            "1086/1086 - 1s - loss: 0.5057 - acc: 0.7956 - val_loss: 0.5649 - val_acc: 0.8148\n",
            "Epoch 48/300\n",
            "1086/1086 - 1s - loss: 0.4705 - acc: 0.8094 - val_loss: 0.5768 - val_acc: 0.8102\n",
            "Epoch 49/300\n",
            "1086/1086 - 1s - loss: 0.4752 - acc: 0.8002 - val_loss: 0.5628 - val_acc: 0.8287\n",
            "Epoch 50/300\n",
            "1086/1086 - 1s - loss: 0.4815 - acc: 0.8287 - val_loss: 0.5653 - val_acc: 0.8148\n",
            "Epoch 51/300\n",
            "1086/1086 - 1s - loss: 0.4762 - acc: 0.8122 - val_loss: 0.5395 - val_acc: 0.8333\n",
            "Epoch 52/300\n",
            "1086/1086 - 1s - loss: 0.4613 - acc: 0.8158 - val_loss: 0.5562 - val_acc: 0.8194\n",
            "Epoch 53/300\n",
            "1086/1086 - 1s - loss: 0.4620 - acc: 0.8361 - val_loss: 0.5691 - val_acc: 0.8102\n",
            "Epoch 54/300\n",
            "1086/1086 - 1s - loss: 0.4381 - acc: 0.8324 - val_loss: 0.5527 - val_acc: 0.8241\n",
            "Epoch 55/300\n",
            "1086/1086 - 1s - loss: 0.4455 - acc: 0.8324 - val_loss: 0.5951 - val_acc: 0.8148\n",
            "Epoch 56/300\n",
            "1086/1086 - 1s - loss: 0.4532 - acc: 0.8287 - val_loss: 0.5812 - val_acc: 0.8333\n",
            "Epoch 57/300\n",
            "1086/1086 - 1s - loss: 0.4313 - acc: 0.8407 - val_loss: 0.5348 - val_acc: 0.8333\n",
            "Epoch 58/300\n",
            "1086/1086 - 1s - loss: 0.4239 - acc: 0.8306 - val_loss: 0.5220 - val_acc: 0.8333\n",
            "Epoch 59/300\n",
            "1086/1086 - 1s - loss: 0.4312 - acc: 0.8517 - val_loss: 0.5621 - val_acc: 0.8241\n",
            "Epoch 60/300\n",
            "1086/1086 - 1s - loss: 0.4096 - acc: 0.8416 - val_loss: 0.5653 - val_acc: 0.8241\n",
            "Epoch 61/300\n",
            "1086/1086 - 1s - loss: 0.3847 - acc: 0.8545 - val_loss: 0.5123 - val_acc: 0.8287\n",
            "Epoch 62/300\n",
            "1086/1086 - 1s - loss: 0.4001 - acc: 0.8517 - val_loss: 0.5200 - val_acc: 0.8287\n",
            "Epoch 63/300\n",
            "1086/1086 - 1s - loss: 0.3996 - acc: 0.8517 - val_loss: 0.4884 - val_acc: 0.8519\n",
            "Epoch 64/300\n",
            "1086/1086 - 1s - loss: 0.4312 - acc: 0.8361 - val_loss: 0.5311 - val_acc: 0.8333\n",
            "Epoch 65/300\n",
            "1086/1086 - 1s - loss: 0.3871 - acc: 0.8481 - val_loss: 0.5072 - val_acc: 0.8287\n",
            "Epoch 66/300\n",
            "1086/1086 - 1s - loss: 0.3893 - acc: 0.8619 - val_loss: 0.5255 - val_acc: 0.8148\n",
            "Epoch 67/300\n",
            "1086/1086 - 1s - loss: 0.3845 - acc: 0.8628 - val_loss: 0.5045 - val_acc: 0.8426\n",
            "Epoch 68/300\n",
            "1086/1086 - 1s - loss: 0.3761 - acc: 0.8582 - val_loss: 0.5819 - val_acc: 0.8194\n",
            "Epoch 69/300\n",
            "1086/1086 - 1s - loss: 0.3942 - acc: 0.8545 - val_loss: 0.5083 - val_acc: 0.8426\n",
            "Epoch 70/300\n",
            "1086/1086 - 1s - loss: 0.3427 - acc: 0.8628 - val_loss: 0.4927 - val_acc: 0.8380\n",
            "Epoch 71/300\n",
            "1086/1086 - 1s - loss: 0.3710 - acc: 0.8591 - val_loss: 0.5226 - val_acc: 0.8287\n",
            "Epoch 72/300\n",
            "1086/1086 - 1s - loss: 0.3434 - acc: 0.8738 - val_loss: 0.5027 - val_acc: 0.8287\n",
            "Epoch 73/300\n",
            "1086/1086 - 1s - loss: 0.3521 - acc: 0.8610 - val_loss: 0.5056 - val_acc: 0.8333\n",
            "Epoch 00073: early stopping\n",
            "Balanced Acc for: \n",
            "########## Balanced Acc: 0.79029304 ##########\n",
            "Starting kfold iteration: 5\n",
            "Train on 1086 samples, validate on 216 samples\n",
            "Epoch 1/300\n",
            "1086/1086 - 3s - loss: 1.8644 - acc: 0.4843 - val_loss: 1.0423 - val_acc: 0.5417\n",
            "Epoch 2/300\n",
            "1086/1086 - 1s - loss: 0.9983 - acc: 0.5433 - val_loss: 0.9829 - val_acc: 0.5463\n",
            "Epoch 3/300\n",
            "1086/1086 - 1s - loss: 0.9511 - acc: 0.5617 - val_loss: 0.9219 - val_acc: 0.6528\n",
            "Epoch 4/300\n",
            "1086/1086 - 1s - loss: 0.9270 - acc: 0.5442 - val_loss: 0.9054 - val_acc: 0.6481\n",
            "Epoch 5/300\n",
            "1086/1086 - 1s - loss: 0.8913 - acc: 0.5820 - val_loss: 0.8439 - val_acc: 0.6481\n",
            "Epoch 6/300\n",
            "1086/1086 - 1s - loss: 0.8458 - acc: 0.6123 - val_loss: 0.8267 - val_acc: 0.6806\n",
            "Epoch 7/300\n",
            "1086/1086 - 1s - loss: 0.8318 - acc: 0.6262 - val_loss: 0.8580 - val_acc: 0.6667\n",
            "Epoch 8/300\n",
            "1086/1086 - 1s - loss: 0.8379 - acc: 0.6197 - val_loss: 0.8538 - val_acc: 0.6343\n",
            "Epoch 9/300\n",
            "1086/1086 - 1s - loss: 0.7955 - acc: 0.6418 - val_loss: 0.7549 - val_acc: 0.6991\n",
            "Epoch 10/300\n",
            "1086/1086 - 1s - loss: 0.7659 - acc: 0.6685 - val_loss: 0.7236 - val_acc: 0.7037\n",
            "Epoch 11/300\n",
            "1086/1086 - 1s - loss: 0.7121 - acc: 0.6740 - val_loss: 0.7071 - val_acc: 0.7176\n",
            "Epoch 12/300\n",
            "1086/1086 - 1s - loss: 0.7207 - acc: 0.6878 - val_loss: 0.7832 - val_acc: 0.7130\n",
            "Epoch 13/300\n",
            "1086/1086 - 1s - loss: 0.6999 - acc: 0.7035 - val_loss: 0.7067 - val_acc: 0.7639\n",
            "Epoch 14/300\n",
            "1086/1086 - 1s - loss: 0.6643 - acc: 0.7274 - val_loss: 0.6442 - val_acc: 0.7454\n",
            "Epoch 15/300\n",
            "1086/1086 - 1s - loss: 0.6493 - acc: 0.7238 - val_loss: 0.7334 - val_acc: 0.7870\n",
            "Epoch 16/300\n",
            "1086/1086 - 1s - loss: 0.6482 - acc: 0.7348 - val_loss: 0.6410 - val_acc: 0.7870\n",
            "Epoch 17/300\n",
            "1086/1086 - 1s - loss: 0.6508 - acc: 0.7348 - val_loss: 0.6662 - val_acc: 0.7639\n",
            "Epoch 18/300\n",
            "1086/1086 - 1s - loss: 0.6082 - acc: 0.7569 - val_loss: 0.6306 - val_acc: 0.7731\n",
            "Epoch 19/300\n",
            "1086/1086 - 1s - loss: 0.5873 - acc: 0.7716 - val_loss: 0.6163 - val_acc: 0.7917\n",
            "Epoch 20/300\n",
            "1086/1086 - 1s - loss: 0.6236 - acc: 0.7431 - val_loss: 0.6499 - val_acc: 0.7917\n",
            "Epoch 21/300\n",
            "1086/1086 - 1s - loss: 0.5810 - acc: 0.7376 - val_loss: 0.5843 - val_acc: 0.7917\n",
            "Epoch 22/300\n",
            "1086/1086 - 1s - loss: 0.5705 - acc: 0.7606 - val_loss: 0.5796 - val_acc: 0.7824\n",
            "Epoch 23/300\n",
            "1086/1086 - 1s - loss: 0.5762 - acc: 0.7532 - val_loss: 0.5914 - val_acc: 0.7963\n",
            "Epoch 24/300\n",
            "1086/1086 - 1s - loss: 0.5541 - acc: 0.7808 - val_loss: 0.5987 - val_acc: 0.7917\n",
            "Epoch 25/300\n",
            "1086/1086 - 1s - loss: 0.5203 - acc: 0.7937 - val_loss: 0.5664 - val_acc: 0.7917\n",
            "Epoch 26/300\n",
            "1086/1086 - 1s - loss: 0.5424 - acc: 0.7993 - val_loss: 0.5875 - val_acc: 0.7963\n",
            "Epoch 27/300\n",
            "1086/1086 - 1s - loss: 0.5570 - acc: 0.8112 - val_loss: 0.6264 - val_acc: 0.8194\n",
            "Epoch 28/300\n",
            "1086/1086 - 1s - loss: 0.5035 - acc: 0.8066 - val_loss: 0.5632 - val_acc: 0.8194\n",
            "Epoch 29/300\n",
            "1086/1086 - 1s - loss: 0.5169 - acc: 0.7993 - val_loss: 0.5527 - val_acc: 0.8194\n",
            "Epoch 30/300\n",
            "1086/1086 - 1s - loss: 0.4917 - acc: 0.8131 - val_loss: 0.6208 - val_acc: 0.8009\n",
            "Epoch 31/300\n",
            "1086/1086 - 1s - loss: 0.5297 - acc: 0.8029 - val_loss: 0.5762 - val_acc: 0.8241\n",
            "Epoch 32/300\n",
            "1086/1086 - 1s - loss: 0.4855 - acc: 0.8076 - val_loss: 0.6030 - val_acc: 0.8148\n",
            "Epoch 33/300\n",
            "1086/1086 - 1s - loss: 0.4574 - acc: 0.8370 - val_loss: 0.5330 - val_acc: 0.8148\n",
            "Epoch 34/300\n",
            "1086/1086 - 1s - loss: 0.5171 - acc: 0.8066 - val_loss: 0.5291 - val_acc: 0.8056\n",
            "Epoch 35/300\n",
            "1086/1086 - 1s - loss: 0.4566 - acc: 0.8306 - val_loss: 0.5516 - val_acc: 0.8287\n",
            "Epoch 36/300\n",
            "1086/1086 - 1s - loss: 0.4820 - acc: 0.8140 - val_loss: 0.5496 - val_acc: 0.8194\n",
            "Epoch 37/300\n",
            "1086/1086 - 1s - loss: 0.4654 - acc: 0.8315 - val_loss: 0.5355 - val_acc: 0.8194\n",
            "Epoch 38/300\n",
            "1086/1086 - 1s - loss: 0.4158 - acc: 0.8490 - val_loss: 0.5086 - val_acc: 0.8426\n",
            "Epoch 39/300\n",
            "1086/1086 - 1s - loss: 0.4405 - acc: 0.8398 - val_loss: 0.5601 - val_acc: 0.8426\n",
            "Epoch 40/300\n",
            "1086/1086 - 1s - loss: 0.4342 - acc: 0.8361 - val_loss: 0.5621 - val_acc: 0.8009\n",
            "Epoch 41/300\n",
            "1086/1086 - 1s - loss: 0.4223 - acc: 0.8610 - val_loss: 0.5449 - val_acc: 0.8333\n",
            "Epoch 42/300\n",
            "1086/1086 - 1s - loss: 0.4031 - acc: 0.8361 - val_loss: 0.5222 - val_acc: 0.8426\n",
            "Epoch 43/300\n",
            "1086/1086 - 1s - loss: 0.4012 - acc: 0.8564 - val_loss: 0.5208 - val_acc: 0.8426\n",
            "Epoch 44/300\n",
            "1086/1086 - 1s - loss: 0.3959 - acc: 0.8582 - val_loss: 0.5244 - val_acc: 0.8472\n",
            "Epoch 45/300\n",
            "1086/1086 - 1s - loss: 0.3877 - acc: 0.8564 - val_loss: 0.5081 - val_acc: 0.8333\n",
            "Epoch 46/300\n",
            "1086/1086 - 1s - loss: 0.4014 - acc: 0.8517 - val_loss: 0.5210 - val_acc: 0.8426\n",
            "Epoch 47/300\n",
            "1086/1086 - 1s - loss: 0.3801 - acc: 0.8600 - val_loss: 0.5382 - val_acc: 0.8519\n",
            "Epoch 48/300\n",
            "1086/1086 - 1s - loss: 0.3773 - acc: 0.8757 - val_loss: 0.5489 - val_acc: 0.8333\n",
            "Epoch 49/300\n",
            "1086/1086 - 1s - loss: 0.3637 - acc: 0.8683 - val_loss: 0.5176 - val_acc: 0.8333\n",
            "Epoch 50/300\n",
            "1086/1086 - 1s - loss: 0.3585 - acc: 0.8692 - val_loss: 0.5203 - val_acc: 0.8287\n",
            "Epoch 51/300\n",
            "1086/1086 - 1s - loss: 0.3739 - acc: 0.8637 - val_loss: 0.5144 - val_acc: 0.8472\n",
            "Epoch 52/300\n",
            "1086/1086 - 1s - loss: 0.3436 - acc: 0.8794 - val_loss: 0.5030 - val_acc: 0.8287\n",
            "Epoch 53/300\n",
            "1086/1086 - 1s - loss: 0.3344 - acc: 0.8757 - val_loss: 0.5068 - val_acc: 0.8472\n",
            "Epoch 54/300\n",
            "1086/1086 - 1s - loss: 0.3261 - acc: 0.8831 - val_loss: 0.4922 - val_acc: 0.8333\n",
            "Epoch 55/300\n",
            "1086/1086 - 1s - loss: 0.3925 - acc: 0.8545 - val_loss: 0.5200 - val_acc: 0.8241\n",
            "Epoch 56/300\n",
            "1086/1086 - 1s - loss: 0.3307 - acc: 0.8794 - val_loss: 0.5288 - val_acc: 0.8472\n",
            "Epoch 57/300\n",
            "1086/1086 - 1s - loss: 0.3311 - acc: 0.8803 - val_loss: 0.5205 - val_acc: 0.8611\n",
            "Epoch 58/300\n",
            "1086/1086 - 1s - loss: 0.3285 - acc: 0.8748 - val_loss: 0.5157 - val_acc: 0.8565\n",
            "Epoch 59/300\n",
            "1086/1086 - 1s - loss: 0.3031 - acc: 0.8803 - val_loss: 0.5124 - val_acc: 0.8426\n",
            "Epoch 60/300\n",
            "1086/1086 - 1s - loss: 0.2743 - acc: 0.8895 - val_loss: 0.5008 - val_acc: 0.8287\n",
            "Epoch 61/300\n",
            "1086/1086 - 1s - loss: 0.2919 - acc: 0.8877 - val_loss: 0.5164 - val_acc: 0.8194\n",
            "Epoch 62/300\n",
            "1086/1086 - 1s - loss: 0.3204 - acc: 0.8785 - val_loss: 0.4991 - val_acc: 0.8380\n",
            "Epoch 63/300\n",
            "1086/1086 - 1s - loss: 0.2997 - acc: 0.8840 - val_loss: 0.5039 - val_acc: 0.8380\n",
            "Epoch 64/300\n",
            "1086/1086 - 1s - loss: 0.2857 - acc: 0.8840 - val_loss: 0.5080 - val_acc: 0.8333\n",
            "Epoch 00064: early stopping\n",
            "Balanced Acc for: \n",
            "########## Balanced Acc: 0.81043956 ##########\n",
            "Acc estimado 0.803 (0.020)\n"
          ],
          "name": "stdout"
        }
      ]
    },
    {
      "cell_type": "markdown",
      "metadata": {
        "id": "TnNasuCZ2dsD",
        "colab_type": "text"
      },
      "source": [
        "Ahora ponemos a prueba los mejores modelos con datos que nunca han visto:"
      ]
    },
    {
      "cell_type": "code",
      "metadata": {
        "id": "CsWK-eox2cxT",
        "colab_type": "code",
        "outputId": "c16305a1-fd81-44d6-997d-524ecd74875e",
        "colab": {
          "base_uri": "https://localhost:8080/",
          "height": 377
        }
      },
      "source": [
        "def ensemble_pred(models, testX):\n",
        "\tyhats = [model.predict(testX) for model in models]\n",
        "\tyhats = np.array(yhats)\n",
        "\tsummed = np.sum(yhats, axis=0)\n",
        "\tresult = np.argmax(summed, axis=1)\n",
        "\treturn result\n",
        "\n",
        "def evaluate_n_models(models, n_models, testX, testy):\n",
        "\tsubset = models[:n_models]\n",
        "\tyhat = ensemble_pred(subset, testX)\n",
        "\treturn accuracy_score(testy, yhat)\n",
        " \n",
        "single_scores, ensemble_scores = list(), list()\n",
        "\n",
        "models_folder = os.listdir(MODELS_PATH)\n",
        "\n",
        "for model_path in models_folder:\n",
        "\tmodels.append(tf.keras.models.load_model(MODELS_PATH / model_path))\n",
        "\tprint('Model {} loaded'.format(model_path))\n",
        "\n",
        "for i in range(1, n_folds+1):\n",
        "\tensemble_score = evaluate_n_models(models, i, x_test, y_test)\n",
        "\t_, single_score = models[i-1].evaluate(x_test, y_test, verbose=0)\n",
        "\tprint('> %d: single=%.3f, ensembled=%.3f' % (i, single_score, ensemble_score))\n",
        "\tensemble_scores.append(ensemble_score)\n",
        "\tsingle_scores.append(single_score)\n",
        " \n",
        "print('Acc individual %.3f (%.3f)' % (np.mean(single_scores), np.std(single_scores)))\n",
        "print('Acc assembled %.3f (%.3f)' % (np.mean(ensemble_scores), np.std(ensemble_scores)))"
      ],
      "execution_count": 0,
      "outputs": [
        {
          "output_type": "stream",
          "text": [
            "WARNING:tensorflow:From /usr/local/lib/python3.6/dist-packages/tensorflow_core/python/ops/init_ops.py:97: calling GlorotUniform.__init__ (from tensorflow.python.ops.init_ops) with dtype is deprecated and will be removed in a future version.\n",
            "Instructions for updating:\n",
            "Call initializer instance with the dtype argument instead of passing it to the constructor\n",
            "WARNING:tensorflow:From /usr/local/lib/python3.6/dist-packages/tensorflow_core/python/ops/init_ops.py:97: calling Zeros.__init__ (from tensorflow.python.ops.init_ops) with dtype is deprecated and will be removed in a future version.\n",
            "Instructions for updating:\n",
            "Call initializer instance with the dtype argument instead of passing it to the constructor\n",
            "Model 3_model.hdf5 loaded\n",
            "Model 0_model.hdf5 loaded\n",
            "Model 4_model.hdf5 loaded\n",
            "Model 1_model.hdf5 loaded\n",
            "Model 5_model.hdf5 loaded\n",
            "Model 2_model.hdf5 loaded\n",
            "> 1: single=0.909, ensembled=0.909\n",
            "> 2: single=0.887, ensembled=0.896\n",
            "> 3: single=0.891, ensembled=0.891\n",
            "> 4: single=0.891, ensembled=0.896\n",
            "> 5: single=0.887, ensembled=0.896\n",
            "> 6: single=0.887, ensembled=0.896\n",
            "Acc individual 0.892 (0.008)\n",
            "Acc assembled 0.897 (0.005)\n"
          ],
          "name": "stdout"
        }
      ]
    },
    {
      "cell_type": "markdown",
      "metadata": {
        "id": "etvIS9ND7fIX",
        "colab_type": "text"
      },
      "source": [
        "El balanced acc del modelo que envié al concurso fue de tan solo **0.873**\n",
        "\n",
        "Luego de correr el balanced Acc del modelo ensamblado es de **0.897** 🥳🥳"
      ]
    },
    {
      "cell_type": "markdown",
      "metadata": {
        "id": "W2dYk9j8qBGA",
        "colab_type": "text"
      },
      "source": [
        "# ⚪ **7** Generando la solución y prediciendo otros archivos"
      ]
    },
    {
      "cell_type": "markdown",
      "metadata": {
        "id": "3qpUBsRtwyQv",
        "colab_type": "text"
      },
      "source": [
        "Ahora generamos los bottlenecks/preprocesamos los archivos que se proveen para testear.\n",
        "\n",
        "> Es posible indicar otro directorio y otro archivo csv aquí:"
      ]
    },
    {
      "cell_type": "code",
      "metadata": {
        "id": "z06KLqjPqH47",
        "colab_type": "code",
        "outputId": "8b89985e-9e1f-4beb-aa57-1461b4acc989",
        "colab": {
          "base_uri": "https://localhost:8080/",
          "height": 68
        }
      },
      "source": [
        "TEST_AUDIO_PATH = DATA_PATH / 'data'\n",
        "TEST_CSV_FILE = DATA_PATH / 'test_files.csv'\n",
        "\n",
        "preprocess_test_data(TEST_AUDIO_PATH, TEST_CSV_FILE)"
      ],
      "execution_count": 0,
      "outputs": [
        {
          "output_type": "stream",
          "text": [
            "100%|██████████| 1551/1551 [07:33<00:00,  3.16it/s]"
          ],
          "name": "stderr"
        },
        {
          "output_type": "stream",
          "text": [
            "\n",
            "Test mfcc array saved\n"
          ],
          "name": "stdout"
        },
        {
          "output_type": "stream",
          "text": [
            "\n"
          ],
          "name": "stderr"
        }
      ]
    },
    {
      "cell_type": "markdown",
      "metadata": {
        "id": "zJPwIllAw__w",
        "colab_type": "text"
      },
      "source": [
        "Ahora podemos predecir sobre los archivos tests y descargar el csv:"
      ]
    },
    {
      "cell_type": "code",
      "metadata": {
        "id": "fZMlhDkDxD2r",
        "colab_type": "code",
        "outputId": "ec5e7aec-2a2a-43c8-e21d-98386dfa98aa",
        "colab": {
          "base_uri": "https://localhost:8080/",
          "height": 1000
        }
      },
      "source": [
        "data = pd.read_csv(TEST_CSV_FILE, dtype=str)\n",
        "test_features = np.load(BOTTLENECKS_PATH / 'test.npy', allow_pickle=True)\n",
        "test_features = test_features.reshape(test_features.shape[0], 20, 35, 1)\n",
        "\n",
        "filenames = data.filename.to_numpy()\n",
        "\n",
        "labels = []\n",
        "files = []\n",
        "\n",
        "for i in tqdm(range(data.shape[0])):\n",
        "  filename = filenames[i]\n",
        "  features = test_features[i]\n",
        "  files.append(filename)\n",
        "  labels.append(ensemble_pred(models, np.array([features]))[0])\n",
        "\n",
        "with open(SOLUTION_PATH, mode='w') as file:\n",
        "  test_writter = csv.writer(file, delimiter=',', quotechar='\"', quoting=csv.QUOTE_MINIMAL)\n",
        "  for i in range(len(files)):\n",
        "    test_writter.writerow([str(files[i]), str(labels[i])])\n",
        "filescolab.download(SOLUTION_PATH)\n",
        "\n"
      ],
      "execution_count": 0,
      "outputs": [
        {
          "output_type": "stream",
          "text": [
            "\n",
            "  0%|          | 0/1551 [00:00<?, ?it/s]\u001b[A\n",
            "  0%|          | 3/1551 [00:00<00:57, 26.80it/s]\u001b[A\n",
            "  0%|          | 6/1551 [00:00<00:57, 26.88it/s]\u001b[A\n",
            "  1%|          | 9/1551 [00:00<00:58, 26.49it/s]\u001b[A\n",
            "  1%|          | 12/1551 [00:00<00:57, 26.55it/s]\u001b[A\n",
            "  1%|          | 15/1551 [00:00<01:00, 25.57it/s]\u001b[A\n",
            "  1%|          | 18/1551 [00:00<00:59, 25.76it/s]\u001b[A\n",
            "  1%|▏         | 21/1551 [00:00<00:58, 26.12it/s]\u001b[A\n",
            "  2%|▏         | 24/1551 [00:00<00:57, 26.37it/s]\u001b[A\n",
            "  2%|▏         | 27/1551 [00:01<00:58, 26.04it/s]\u001b[A\n",
            "  2%|▏         | 30/1551 [00:01<00:58, 26.00it/s]\u001b[A\n",
            "  2%|▏         | 33/1551 [00:01<00:57, 26.55it/s]\u001b[A\n",
            "  2%|▏         | 36/1551 [00:01<00:57, 26.16it/s]\u001b[A\n",
            "  3%|▎         | 39/1551 [00:01<00:57, 26.43it/s]\u001b[A\n",
            "  3%|▎         | 42/1551 [00:01<00:56, 26.87it/s]\u001b[A\n",
            "  3%|▎         | 45/1551 [00:01<00:57, 26.38it/s]\u001b[A\n",
            "  3%|▎         | 48/1551 [00:01<00:57, 26.22it/s]\u001b[A\n",
            "  3%|▎         | 51/1551 [00:01<00:56, 26.52it/s]\u001b[A\n",
            "  3%|▎         | 54/1551 [00:02<00:56, 26.58it/s]\u001b[A\n",
            "  4%|▎         | 57/1551 [00:02<00:55, 26.81it/s]\u001b[A\n",
            "  4%|▍         | 60/1551 [00:02<00:55, 26.83it/s]\u001b[A\n",
            "  4%|▍         | 63/1551 [00:02<00:56, 26.39it/s]\u001b[A\n",
            "  4%|▍         | 66/1551 [00:02<00:55, 26.60it/s]\u001b[A\n",
            "  4%|▍         | 69/1551 [00:02<00:55, 26.80it/s]\u001b[A\n",
            "  5%|▍         | 72/1551 [00:02<00:55, 26.81it/s]\u001b[A\n",
            "  5%|▍         | 75/1551 [00:02<00:55, 26.77it/s]\u001b[A\n",
            "  5%|▌         | 78/1551 [00:02<00:55, 26.57it/s]\u001b[A\n",
            "  5%|▌         | 81/1551 [00:03<00:56, 26.09it/s]\u001b[A\n",
            "  5%|▌         | 84/1551 [00:03<00:56, 26.18it/s]\u001b[A\n",
            "  6%|▌         | 87/1551 [00:03<00:55, 26.18it/s]\u001b[A\n",
            "  6%|▌         | 90/1551 [00:03<00:56, 25.80it/s]\u001b[A\n",
            "  6%|▌         | 93/1551 [00:03<00:55, 26.20it/s]\u001b[A\n",
            "  6%|▌         | 96/1551 [00:03<00:55, 26.38it/s]\u001b[A\n",
            "  6%|▋         | 99/1551 [00:03<00:54, 26.54it/s]\u001b[A\n",
            "  7%|▋         | 102/1551 [00:03<00:54, 26.62it/s]\u001b[A\n",
            "  7%|▋         | 105/1551 [00:03<00:54, 26.63it/s]\u001b[A\n",
            "  7%|▋         | 108/1551 [00:04<00:54, 26.41it/s]\u001b[A\n",
            "  7%|▋         | 111/1551 [00:04<00:54, 26.61it/s]\u001b[A\n",
            "  7%|▋         | 114/1551 [00:04<00:53, 26.75it/s]\u001b[A\n",
            "  8%|▊         | 117/1551 [00:04<00:54, 26.14it/s]\u001b[A\n",
            "  8%|▊         | 120/1551 [00:04<00:54, 26.32it/s]\u001b[A\n",
            "  8%|▊         | 123/1551 [00:04<00:54, 26.04it/s]\u001b[A\n",
            "  8%|▊         | 126/1551 [00:04<00:54, 26.19it/s]\u001b[A\n",
            "  8%|▊         | 129/1551 [00:04<00:53, 26.35it/s]\u001b[A\n",
            "  9%|▊         | 132/1551 [00:05<00:53, 26.52it/s]\u001b[A\n",
            "  9%|▊         | 135/1551 [00:05<00:53, 26.50it/s]\u001b[A\n",
            "  9%|▉         | 138/1551 [00:05<00:53, 26.59it/s]\u001b[A\n",
            "  9%|▉         | 141/1551 [00:05<00:52, 26.94it/s]\u001b[A\n",
            "  9%|▉         | 144/1551 [00:05<00:53, 26.43it/s]\u001b[A\n",
            "  9%|▉         | 147/1551 [00:05<00:52, 26.81it/s]\u001b[A\n",
            " 10%|▉         | 150/1551 [00:05<00:51, 26.97it/s]\u001b[A\n",
            " 10%|▉         | 153/1551 [00:05<00:51, 27.18it/s]\u001b[A\n",
            " 10%|█         | 156/1551 [00:05<00:52, 26.72it/s]\u001b[A\n",
            " 10%|█         | 159/1551 [00:06<00:51, 26.86it/s]\u001b[A\n",
            " 10%|█         | 162/1551 [00:06<00:51, 26.89it/s]\u001b[A\n",
            " 11%|█         | 165/1551 [00:06<00:51, 26.77it/s]\u001b[A\n",
            " 11%|█         | 168/1551 [00:06<00:51, 27.09it/s]\u001b[A\n",
            " 11%|█         | 171/1551 [00:06<00:52, 26.42it/s]\u001b[A\n",
            " 11%|█         | 174/1551 [00:06<00:52, 26.43it/s]\u001b[A\n",
            " 11%|█▏        | 177/1551 [00:06<00:51, 26.73it/s]\u001b[A\n",
            " 12%|█▏        | 180/1551 [00:06<00:51, 26.88it/s]\u001b[A\n",
            " 12%|█▏        | 183/1551 [00:06<00:50, 26.97it/s]\u001b[A\n",
            " 12%|█▏        | 186/1551 [00:07<00:50, 26.88it/s]\u001b[A\n",
            " 12%|█▏        | 189/1551 [00:07<00:50, 26.94it/s]\u001b[A\n",
            " 12%|█▏        | 192/1551 [00:07<00:50, 27.01it/s]\u001b[A\n",
            " 13%|█▎        | 195/1551 [00:07<00:50, 27.05it/s]\u001b[A\n",
            " 13%|█▎        | 198/1551 [00:07<00:51, 26.17it/s]\u001b[A\n",
            " 13%|█▎        | 201/1551 [00:07<00:51, 26.36it/s]\u001b[A\n",
            " 13%|█▎        | 204/1551 [00:07<00:50, 26.69it/s]\u001b[A\n",
            " 13%|█▎        | 207/1551 [00:07<00:49, 26.97it/s]\u001b[A\n",
            " 14%|█▎        | 210/1551 [00:07<00:50, 26.59it/s]\u001b[A\n",
            " 14%|█▎        | 213/1551 [00:08<00:51, 26.18it/s]\u001b[A\n",
            " 14%|█▍        | 216/1551 [00:08<00:50, 26.23it/s]\u001b[A\n",
            " 14%|█▍        | 219/1551 [00:08<00:49, 26.74it/s]\u001b[A\n",
            " 14%|█▍        | 222/1551 [00:08<00:49, 27.02it/s]\u001b[A\n",
            " 15%|█▍        | 225/1551 [00:08<00:50, 26.25it/s]\u001b[A\n",
            " 15%|█▍        | 228/1551 [00:08<00:50, 26.43it/s]\u001b[A\n",
            " 15%|█▍        | 231/1551 [00:08<00:49, 26.72it/s]\u001b[A\n",
            " 15%|█▌        | 234/1551 [00:08<00:49, 26.65it/s]\u001b[A\n",
            " 15%|█▌        | 237/1551 [00:08<00:49, 26.76it/s]\u001b[A\n",
            " 15%|█▌        | 240/1551 [00:09<00:48, 26.83it/s]\u001b[A\n",
            " 16%|█▌        | 243/1551 [00:09<00:49, 26.47it/s]\u001b[A\n",
            " 16%|█▌        | 246/1551 [00:09<00:48, 26.88it/s]\u001b[A\n",
            " 16%|█▌        | 249/1551 [00:09<00:47, 27.18it/s]\u001b[A\n",
            " 16%|█▌        | 252/1551 [00:09<00:48, 26.96it/s]\u001b[A\n",
            " 16%|█▋        | 255/1551 [00:09<00:48, 26.99it/s]\u001b[A\n",
            " 17%|█▋        | 258/1551 [00:09<00:47, 26.95it/s]\u001b[A\n",
            " 17%|█▋        | 261/1551 [00:09<00:48, 26.48it/s]\u001b[A\n",
            " 17%|█▋        | 264/1551 [00:09<00:48, 26.73it/s]\u001b[A\n",
            " 17%|█▋        | 267/1551 [00:10<00:47, 26.87it/s]\u001b[A\n",
            " 17%|█▋        | 270/1551 [00:10<00:47, 27.09it/s]\u001b[A\n",
            " 18%|█▊        | 273/1551 [00:10<00:47, 27.01it/s]\u001b[A\n",
            " 18%|█▊        | 276/1551 [00:10<00:47, 27.06it/s]\u001b[A\n",
            " 18%|█▊        | 279/1551 [00:10<00:47, 26.97it/s]\u001b[A\n",
            " 18%|█▊        | 282/1551 [00:10<00:47, 26.52it/s]\u001b[A\n",
            " 18%|█▊        | 285/1551 [00:10<00:47, 26.72it/s]\u001b[A\n",
            " 19%|█▊        | 288/1551 [00:10<00:47, 26.73it/s]\u001b[A\n",
            " 19%|█▉        | 291/1551 [00:10<00:46, 26.94it/s]\u001b[A\n",
            " 19%|█▉        | 294/1551 [00:11<00:49, 25.23it/s]\u001b[A\n",
            " 19%|█▉        | 297/1551 [00:11<00:48, 25.60it/s]\u001b[A\n",
            " 19%|█▉        | 300/1551 [00:11<00:48, 25.94it/s]\u001b[A\n",
            " 20%|█▉        | 303/1551 [00:11<00:47, 26.24it/s]\u001b[A\n",
            " 20%|█▉        | 306/1551 [00:11<00:46, 26.57it/s]\u001b[A\n",
            " 20%|█▉        | 309/1551 [00:11<00:47, 26.24it/s]\u001b[A\n",
            " 20%|██        | 312/1551 [00:11<00:46, 26.52it/s]\u001b[A\n",
            " 20%|██        | 315/1551 [00:11<00:45, 26.91it/s]\u001b[A\n",
            " 21%|██        | 318/1551 [00:11<00:45, 27.05it/s]\u001b[A\n",
            " 21%|██        | 321/1551 [00:12<00:45, 27.16it/s]\u001b[A\n",
            " 21%|██        | 324/1551 [00:12<00:45, 27.10it/s]\u001b[A\n",
            " 21%|██        | 327/1551 [00:12<00:45, 26.96it/s]\u001b[A\n",
            " 21%|██▏       | 330/1551 [00:12<00:45, 26.85it/s]\u001b[A\n",
            " 21%|██▏       | 333/1551 [00:12<00:45, 26.79it/s]\u001b[A\n",
            " 22%|██▏       | 336/1551 [00:12<00:46, 26.28it/s]\u001b[A\n",
            " 22%|██▏       | 339/1551 [00:12<00:45, 26.70it/s]\u001b[A\n",
            " 22%|██▏       | 342/1551 [00:12<00:44, 26.99it/s]\u001b[A\n",
            " 22%|██▏       | 345/1551 [00:12<00:44, 27.13it/s]\u001b[A\n",
            " 22%|██▏       | 348/1551 [00:13<00:44, 27.19it/s]\u001b[A\n",
            " 23%|██▎       | 351/1551 [00:13<00:44, 26.74it/s]\u001b[A\n",
            " 23%|██▎       | 354/1551 [00:13<00:44, 26.72it/s]\u001b[A\n",
            " 23%|██▎       | 357/1551 [00:13<00:45, 26.46it/s]\u001b[A\n",
            " 23%|██▎       | 360/1551 [00:13<00:44, 26.86it/s]\u001b[A\n",
            " 23%|██▎       | 363/1551 [00:13<00:45, 26.39it/s]\u001b[A\n",
            " 24%|██▎       | 366/1551 [00:13<00:44, 26.58it/s]\u001b[A\n",
            " 24%|██▍       | 369/1551 [00:13<00:44, 26.65it/s]\u001b[A\n",
            " 24%|██▍       | 372/1551 [00:13<00:43, 26.88it/s]\u001b[A\n",
            " 24%|██▍       | 375/1551 [00:14<00:44, 26.43it/s]\u001b[A\n",
            " 24%|██▍       | 378/1551 [00:14<00:44, 26.58it/s]\u001b[A\n",
            " 25%|██▍       | 381/1551 [00:14<00:43, 26.65it/s]\u001b[A\n",
            " 25%|██▍       | 384/1551 [00:14<00:44, 26.14it/s]\u001b[A\n",
            " 25%|██▍       | 387/1551 [00:14<00:44, 26.26it/s]\u001b[A\n",
            " 25%|██▌       | 390/1551 [00:14<00:44, 26.03it/s]\u001b[A\n",
            " 25%|██▌       | 393/1551 [00:14<00:43, 26.38it/s]\u001b[A\n",
            " 26%|██▌       | 396/1551 [00:14<00:42, 26.92it/s]\u001b[A\n",
            " 26%|██▌       | 399/1551 [00:15<00:42, 27.15it/s]\u001b[A\n",
            " 26%|██▌       | 402/1551 [00:15<00:42, 26.99it/s]\u001b[A\n",
            " 26%|██▌       | 405/1551 [00:15<00:41, 27.30it/s]\u001b[A\n",
            " 26%|██▋       | 408/1551 [00:15<00:41, 27.25it/s]\u001b[A\n",
            " 26%|██▋       | 411/1551 [00:15<00:42, 26.92it/s]\u001b[A\n",
            " 27%|██▋       | 414/1551 [00:15<00:42, 27.05it/s]\u001b[A\n",
            " 27%|██▋       | 417/1551 [00:15<00:43, 26.32it/s]\u001b[A\n",
            " 27%|██▋       | 420/1551 [00:15<00:43, 26.25it/s]\u001b[A\n",
            " 27%|██▋       | 423/1551 [00:15<00:42, 26.74it/s]\u001b[A\n",
            " 27%|██▋       | 426/1551 [00:16<00:41, 26.95it/s]\u001b[A\n",
            " 28%|██▊       | 429/1551 [00:16<00:41, 27.07it/s]\u001b[A\n",
            " 28%|██▊       | 432/1551 [00:16<00:40, 27.38it/s]\u001b[A\n",
            " 28%|██▊       | 435/1551 [00:16<00:40, 27.45it/s]\u001b[A\n",
            " 28%|██▊       | 438/1551 [00:16<00:40, 27.43it/s]\u001b[A\n",
            " 28%|██▊       | 441/1551 [00:16<00:40, 27.48it/s]\u001b[A\n",
            " 29%|██▊       | 444/1551 [00:16<00:41, 26.69it/s]\u001b[A\n",
            " 29%|██▉       | 447/1551 [00:16<00:41, 26.48it/s]\u001b[A\n",
            " 29%|██▉       | 450/1551 [00:16<00:40, 26.88it/s]\u001b[A\n",
            " 29%|██▉       | 453/1551 [00:17<00:41, 26.42it/s]\u001b[A\n",
            " 29%|██▉       | 456/1551 [00:17<00:41, 26.59it/s]\u001b[A\n",
            " 30%|██▉       | 459/1551 [00:17<00:40, 27.00it/s]\u001b[A\n",
            " 30%|██▉       | 462/1551 [00:17<00:40, 27.16it/s]\u001b[A\n",
            " 30%|██▉       | 465/1551 [00:17<00:39, 27.23it/s]\u001b[A\n",
            " 30%|███       | 468/1551 [00:17<00:39, 27.19it/s]\u001b[A\n",
            " 30%|███       | 471/1551 [00:17<00:40, 26.53it/s]\u001b[A\n",
            " 31%|███       | 474/1551 [00:17<00:41, 25.91it/s]\u001b[A\n",
            " 31%|███       | 477/1551 [00:17<00:40, 26.50it/s]\u001b[A\n",
            " 31%|███       | 480/1551 [00:18<00:40, 26.44it/s]\u001b[A\n",
            " 31%|███       | 483/1551 [00:18<00:39, 26.71it/s]\u001b[A\n",
            " 31%|███▏      | 486/1551 [00:18<00:39, 26.99it/s]\u001b[A\n",
            " 32%|███▏      | 489/1551 [00:18<00:39, 27.15it/s]\u001b[A\n",
            " 32%|███▏      | 492/1551 [00:18<00:38, 27.20it/s]\u001b[A\n",
            " 32%|███▏      | 495/1551 [00:18<00:38, 27.11it/s]\u001b[A\n",
            " 32%|███▏      | 498/1551 [00:18<00:39, 26.81it/s]\u001b[A\n",
            " 32%|███▏      | 501/1551 [00:18<00:40, 26.11it/s]\u001b[A\n",
            " 32%|███▏      | 504/1551 [00:18<00:39, 26.27it/s]\u001b[A\n",
            " 33%|███▎      | 507/1551 [00:19<00:39, 26.27it/s]\u001b[A\n",
            " 33%|███▎      | 510/1551 [00:19<00:38, 26.71it/s]\u001b[A\n",
            " 33%|███▎      | 513/1551 [00:19<00:38, 26.81it/s]\u001b[A\n",
            " 33%|███▎      | 516/1551 [00:19<00:38, 26.98it/s]\u001b[A\n",
            " 33%|███▎      | 519/1551 [00:19<00:38, 26.91it/s]\u001b[A\n",
            " 34%|███▎      | 522/1551 [00:19<00:38, 26.88it/s]\u001b[A\n",
            " 34%|███▍      | 525/1551 [00:19<00:38, 26.98it/s]\u001b[A\n",
            " 34%|███▍      | 528/1551 [00:19<00:38, 26.24it/s]\u001b[A\n",
            " 34%|███▍      | 531/1551 [00:19<00:38, 26.34it/s]\u001b[A\n",
            " 34%|███▍      | 534/1551 [00:20<00:38, 26.52it/s]\u001b[A\n",
            " 35%|███▍      | 537/1551 [00:20<00:37, 26.96it/s]\u001b[A\n",
            " 35%|███▍      | 540/1551 [00:20<00:37, 27.19it/s]\u001b[A\n",
            " 35%|███▌      | 543/1551 [00:20<00:36, 27.40it/s]\u001b[A\n",
            " 35%|███▌      | 546/1551 [00:20<00:36, 27.36it/s]\u001b[A\n",
            " 35%|███▌      | 549/1551 [00:20<00:36, 27.40it/s]\u001b[A\n",
            " 36%|███▌      | 552/1551 [00:20<00:37, 26.92it/s]\u001b[A\n",
            " 36%|███▌      | 555/1551 [00:20<00:37, 26.42it/s]\u001b[A\n",
            " 36%|███▌      | 558/1551 [00:20<00:37, 26.51it/s]\u001b[A\n",
            " 36%|███▌      | 561/1551 [00:21<00:37, 26.55it/s]\u001b[A\n",
            " 36%|███▋      | 564/1551 [00:21<00:36, 26.80it/s]\u001b[A\n",
            " 37%|███▋      | 567/1551 [00:21<00:36, 26.92it/s]\u001b[A\n",
            " 37%|███▋      | 570/1551 [00:21<00:36, 26.86it/s]\u001b[A\n",
            " 37%|███▋      | 573/1551 [00:21<00:36, 27.01it/s]\u001b[A\n",
            " 37%|███▋      | 576/1551 [00:21<00:36, 26.63it/s]\u001b[A\n",
            " 37%|███▋      | 579/1551 [00:21<00:36, 26.78it/s]\u001b[A\n",
            " 38%|███▊      | 582/1551 [00:21<00:36, 26.32it/s]\u001b[A\n",
            " 38%|███▊      | 585/1551 [00:21<00:36, 26.31it/s]\u001b[A\n",
            " 38%|███▊      | 588/1551 [00:22<00:36, 26.48it/s]\u001b[A\n",
            " 38%|███▊      | 591/1551 [00:22<00:36, 26.61it/s]\u001b[A\n",
            " 38%|███▊      | 594/1551 [00:22<00:35, 27.07it/s]\u001b[A\n",
            " 38%|███▊      | 597/1551 [00:22<00:35, 27.00it/s]\u001b[A\n",
            " 39%|███▊      | 600/1551 [00:22<00:35, 27.03it/s]\u001b[A\n",
            " 39%|███▉      | 603/1551 [00:22<00:35, 26.78it/s]\u001b[A\n",
            " 39%|███▉      | 606/1551 [00:22<00:34, 27.01it/s]\u001b[A\n",
            " 39%|███▉      | 609/1551 [00:22<00:35, 26.54it/s]\u001b[A\n",
            " 39%|███▉      | 612/1551 [00:22<00:35, 26.71it/s]\u001b[A\n",
            " 40%|███▉      | 615/1551 [00:23<00:35, 26.70it/s]\u001b[A\n",
            " 40%|███▉      | 618/1551 [00:23<00:34, 26.67it/s]\u001b[A\n",
            " 40%|████      | 621/1551 [00:23<00:34, 26.71it/s]\u001b[A\n",
            " 40%|████      | 624/1551 [00:23<00:34, 26.78it/s]\u001b[A\n",
            " 40%|████      | 627/1551 [00:23<00:34, 27.03it/s]\u001b[A\n",
            " 41%|████      | 630/1551 [00:23<00:34, 26.72it/s]\u001b[A\n",
            " 41%|████      | 633/1551 [00:23<00:34, 26.79it/s]\u001b[A\n",
            " 41%|████      | 636/1551 [00:23<00:33, 27.00it/s]\u001b[A\n",
            " 41%|████      | 639/1551 [00:23<00:33, 26.91it/s]\u001b[A\n",
            " 41%|████▏     | 642/1551 [00:24<00:34, 26.47it/s]\u001b[A\n",
            " 42%|████▏     | 645/1551 [00:24<00:34, 26.56it/s]\u001b[A\n",
            " 42%|████▏     | 648/1551 [00:24<00:33, 26.64it/s]\u001b[A\n",
            " 42%|████▏     | 651/1551 [00:24<00:33, 26.65it/s]\u001b[A\n",
            " 42%|████▏     | 654/1551 [00:24<00:33, 26.72it/s]\u001b[A\n",
            " 42%|████▏     | 657/1551 [00:24<00:33, 26.44it/s]\u001b[A\n",
            " 43%|████▎     | 660/1551 [00:24<00:33, 26.61it/s]\u001b[A\n",
            " 43%|████▎     | 663/1551 [00:24<00:33, 26.72it/s]\u001b[A\n",
            " 43%|████▎     | 666/1551 [00:24<00:33, 26.13it/s]\u001b[A\n",
            " 43%|████▎     | 669/1551 [00:25<00:33, 26.38it/s]\u001b[A\n",
            " 43%|████▎     | 672/1551 [00:25<00:32, 26.85it/s]\u001b[A\n",
            " 44%|████▎     | 675/1551 [00:25<00:32, 27.04it/s]\u001b[A\n",
            " 44%|████▎     | 678/1551 [00:25<00:31, 27.36it/s]\u001b[A\n",
            " 44%|████▍     | 681/1551 [00:25<00:31, 27.57it/s]\u001b[A\n",
            " 44%|████▍     | 684/1551 [00:25<00:31, 27.57it/s]\u001b[A\n",
            " 44%|████▍     | 687/1551 [00:25<00:31, 27.50it/s]\u001b[A\n",
            " 44%|████▍     | 690/1551 [00:25<00:31, 27.32it/s]\u001b[A\n",
            " 45%|████▍     | 693/1551 [00:25<00:31, 26.83it/s]\u001b[A\n",
            " 45%|████▍     | 696/1551 [00:26<00:31, 26.81it/s]\u001b[A\n",
            " 45%|████▌     | 699/1551 [00:26<00:31, 26.98it/s]\u001b[A\n",
            " 45%|████▌     | 702/1551 [00:26<00:31, 27.27it/s]\u001b[A\n",
            " 45%|████▌     | 705/1551 [00:26<00:31, 26.98it/s]\u001b[A\n",
            " 46%|████▌     | 708/1551 [00:26<00:31, 27.03it/s]\u001b[A\n",
            " 46%|████▌     | 711/1551 [00:26<00:31, 27.06it/s]\u001b[A\n",
            " 46%|████▌     | 714/1551 [00:26<00:30, 27.07it/s]\u001b[A\n",
            " 46%|████▌     | 717/1551 [00:26<00:30, 27.31it/s]\u001b[A\n",
            " 46%|████▋     | 720/1551 [00:26<00:30, 26.83it/s]\u001b[A\n",
            " 47%|████▋     | 723/1551 [00:27<00:30, 26.91it/s]\u001b[A\n",
            " 47%|████▋     | 726/1551 [00:27<00:30, 26.84it/s]\u001b[A\n",
            " 47%|████▋     | 729/1551 [00:27<00:30, 26.98it/s]\u001b[A\n",
            " 47%|████▋     | 732/1551 [00:27<00:30, 27.07it/s]\u001b[A\n",
            " 47%|████▋     | 735/1551 [00:27<00:29, 27.25it/s]\u001b[A\n",
            " 48%|████▊     | 738/1551 [00:27<00:30, 27.09it/s]\u001b[A\n",
            " 48%|████▊     | 741/1551 [00:27<00:29, 27.03it/s]\u001b[A\n",
            " 48%|████▊     | 744/1551 [00:27<00:29, 27.01it/s]\u001b[A\n",
            " 48%|████▊     | 747/1551 [00:27<00:30, 26.67it/s]\u001b[A\n",
            " 48%|████▊     | 750/1551 [00:28<00:29, 26.99it/s]\u001b[A\n",
            " 49%|████▊     | 753/1551 [00:28<00:29, 27.22it/s]\u001b[A\n",
            " 49%|████▊     | 756/1551 [00:28<00:29, 27.11it/s]\u001b[A\n",
            " 49%|████▉     | 759/1551 [00:28<00:29, 27.05it/s]\u001b[A\n",
            " 49%|████▉     | 762/1551 [00:28<00:29, 27.04it/s]\u001b[A\n",
            " 49%|████▉     | 765/1551 [00:28<00:29, 26.85it/s]\u001b[A\n",
            " 50%|████▉     | 768/1551 [00:28<00:29, 26.62it/s]\u001b[A\n",
            " 50%|████▉     | 771/1551 [00:28<00:29, 26.83it/s]\u001b[A\n",
            " 50%|████▉     | 774/1551 [00:28<00:28, 26.96it/s]\u001b[A\n",
            " 50%|█████     | 777/1551 [00:29<00:29, 26.37it/s]\u001b[A\n",
            " 50%|█████     | 780/1551 [00:29<00:29, 26.53it/s]\u001b[A\n",
            " 50%|█████     | 783/1551 [00:29<00:28, 26.56it/s]\u001b[A\n",
            " 51%|█████     | 786/1551 [00:29<00:28, 26.41it/s]\u001b[A\n",
            " 51%|█████     | 789/1551 [00:29<00:28, 26.52it/s]\u001b[A\n",
            " 51%|█████     | 792/1551 [00:29<00:28, 26.79it/s]\u001b[A\n",
            " 51%|█████▏    | 795/1551 [00:29<00:28, 26.86it/s]\u001b[A\n",
            " 51%|█████▏    | 798/1551 [00:29<00:28, 26.86it/s]\u001b[A\n",
            " 52%|█████▏    | 801/1551 [00:29<00:27, 27.04it/s]\u001b[A\n",
            " 52%|█████▏    | 804/1551 [00:30<00:28, 26.59it/s]\u001b[A\n",
            " 52%|█████▏    | 807/1551 [00:30<00:27, 26.66it/s]\u001b[A\n",
            " 52%|█████▏    | 810/1551 [00:30<00:28, 26.38it/s]\u001b[A\n",
            " 52%|█████▏    | 813/1551 [00:30<00:27, 26.67it/s]\u001b[A\n",
            " 53%|█████▎    | 816/1551 [00:30<00:27, 27.15it/s]\u001b[A\n",
            " 53%|█████▎    | 819/1551 [00:30<00:26, 27.38it/s]\u001b[A\n",
            " 53%|█████▎    | 822/1551 [00:30<00:26, 27.49it/s]\u001b[A\n",
            " 53%|█████▎    | 825/1551 [00:30<00:26, 27.56it/s]\u001b[A\n",
            " 53%|█████▎    | 828/1551 [00:30<00:26, 26.98it/s]\u001b[A\n",
            " 54%|█████▎    | 831/1551 [00:31<00:27, 26.45it/s]\u001b[A\n",
            " 54%|█████▍    | 834/1551 [00:31<00:26, 26.75it/s]\u001b[A\n",
            " 54%|█████▍    | 837/1551 [00:31<00:26, 26.68it/s]\u001b[A\n",
            " 54%|█████▍    | 840/1551 [00:31<00:26, 26.72it/s]\u001b[A\n",
            " 54%|█████▍    | 843/1551 [00:31<00:26, 26.88it/s]\u001b[A\n",
            " 55%|█████▍    | 846/1551 [00:31<00:27, 25.52it/s]\u001b[A\n",
            " 55%|█████▍    | 849/1551 [00:31<00:27, 25.85it/s]\u001b[A\n",
            " 55%|█████▍    | 852/1551 [00:31<00:27, 25.79it/s]\u001b[A\n",
            " 55%|█████▌    | 855/1551 [00:32<00:26, 26.04it/s]\u001b[A\n",
            " 55%|█████▌    | 858/1551 [00:32<00:26, 25.84it/s]\u001b[A\n",
            " 56%|█████▌    | 861/1551 [00:32<00:26, 26.37it/s]\u001b[A\n",
            " 56%|█████▌    | 864/1551 [00:32<00:25, 26.49it/s]\u001b[A\n",
            " 56%|█████▌    | 867/1551 [00:32<00:25, 26.33it/s]\u001b[A\n",
            " 56%|█████▌    | 870/1551 [00:32<00:25, 26.50it/s]\u001b[A\n",
            " 56%|█████▋    | 873/1551 [00:32<00:25, 26.93it/s]\u001b[A\n",
            " 56%|█████▋    | 876/1551 [00:32<00:25, 26.22it/s]\u001b[A\n",
            " 57%|█████▋    | 879/1551 [00:32<00:25, 26.52it/s]\u001b[A\n",
            " 57%|█████▋    | 882/1551 [00:33<00:25, 26.54it/s]\u001b[A\n",
            " 57%|█████▋    | 885/1551 [00:33<00:25, 26.30it/s]\u001b[A\n",
            " 57%|█████▋    | 888/1551 [00:33<00:24, 26.77it/s]\u001b[A\n",
            " 57%|█████▋    | 891/1551 [00:33<00:25, 26.24it/s]\u001b[A\n",
            " 58%|█████▊    | 894/1551 [00:33<00:24, 26.39it/s]\u001b[A\n",
            " 58%|█████▊    | 897/1551 [00:33<00:24, 26.59it/s]\u001b[A\n",
            " 58%|█████▊    | 900/1551 [00:33<00:24, 26.66it/s]\u001b[A\n",
            " 58%|█████▊    | 903/1551 [00:33<00:23, 27.02it/s]\u001b[A\n",
            " 58%|█████▊    | 906/1551 [00:33<00:23, 26.90it/s]\u001b[A\n",
            " 59%|█████▊    | 909/1551 [00:34<00:24, 26.46it/s]\u001b[A\n",
            " 59%|█████▉    | 912/1551 [00:34<00:24, 26.14it/s]\u001b[A\n",
            " 59%|█████▉    | 915/1551 [00:34<00:24, 26.46it/s]\u001b[A\n",
            " 59%|█████▉    | 918/1551 [00:34<00:23, 26.56it/s]\u001b[A\n",
            " 59%|█████▉    | 921/1551 [00:34<00:24, 26.24it/s]\u001b[A\n",
            " 60%|█████▉    | 924/1551 [00:34<00:23, 26.43it/s]\u001b[A\n",
            " 60%|█████▉    | 927/1551 [00:34<00:23, 26.69it/s]\u001b[A\n",
            " 60%|█████▉    | 930/1551 [00:34<00:23, 26.91it/s]\u001b[A\n",
            " 60%|██████    | 933/1551 [00:34<00:22, 27.05it/s]\u001b[A\n",
            " 60%|██████    | 936/1551 [00:35<00:22, 27.12it/s]\u001b[A\n",
            " 61%|██████    | 939/1551 [00:35<00:22, 26.68it/s]\u001b[A\n",
            " 61%|██████    | 942/1551 [00:35<00:22, 26.99it/s]\u001b[A\n",
            " 61%|██████    | 945/1551 [00:35<00:22, 27.13it/s]\u001b[A\n",
            " 61%|██████    | 948/1551 [00:35<00:22, 27.07it/s]\u001b[A\n",
            " 61%|██████▏   | 951/1551 [00:35<00:22, 26.86it/s]\u001b[A\n",
            " 62%|██████▏   | 954/1551 [00:35<00:21, 27.18it/s]\u001b[A\n",
            " 62%|██████▏   | 957/1551 [00:35<00:21, 27.48it/s]\u001b[A\n",
            " 62%|██████▏   | 960/1551 [00:35<00:21, 27.50it/s]\u001b[A\n",
            " 62%|██████▏   | 963/1551 [00:36<00:21, 27.54it/s]\u001b[A\n",
            " 62%|██████▏   | 966/1551 [00:36<00:21, 26.93it/s]\u001b[A\n",
            " 62%|██████▏   | 969/1551 [00:36<00:21, 27.03it/s]\u001b[A\n",
            " 63%|██████▎   | 972/1551 [00:36<00:21, 27.19it/s]\u001b[A\n",
            " 63%|██████▎   | 975/1551 [00:36<00:21, 27.32it/s]\u001b[A\n",
            " 63%|██████▎   | 978/1551 [00:36<00:20, 27.58it/s]\u001b[A\n",
            " 63%|██████▎   | 981/1551 [00:36<00:20, 27.66it/s]\u001b[A\n",
            " 63%|██████▎   | 984/1551 [00:36<00:20, 27.64it/s]\u001b[A\n",
            " 64%|██████▎   | 987/1551 [00:36<00:20, 27.33it/s]\u001b[A\n",
            " 64%|██████▍   | 990/1551 [00:37<00:20, 27.19it/s]\u001b[A\n",
            " 64%|██████▍   | 993/1551 [00:37<00:20, 27.19it/s]\u001b[A\n",
            " 64%|██████▍   | 996/1551 [00:37<00:21, 26.22it/s]\u001b[A\n",
            " 64%|██████▍   | 999/1551 [00:37<00:21, 26.25it/s]\u001b[A\n",
            " 65%|██████▍   | 1002/1551 [00:37<00:21, 25.92it/s]\u001b[A\n",
            " 65%|██████▍   | 1005/1551 [00:37<00:20, 26.22it/s]\u001b[A\n",
            " 65%|██████▍   | 1008/1551 [00:37<00:20, 26.51it/s]\u001b[A\n",
            " 65%|██████▌   | 1011/1551 [00:37<00:20, 26.82it/s]\u001b[A\n",
            " 65%|██████▌   | 1014/1551 [00:37<00:20, 26.69it/s]\u001b[A\n",
            " 66%|██████▌   | 1017/1551 [00:38<00:19, 26.76it/s]\u001b[A\n",
            " 66%|██████▌   | 1020/1551 [00:38<00:19, 27.02it/s]\u001b[A\n",
            " 66%|██████▌   | 1023/1551 [00:38<00:19, 26.56it/s]\u001b[A\n",
            " 66%|██████▌   | 1026/1551 [00:38<00:19, 26.30it/s]\u001b[A\n",
            " 66%|██████▋   | 1029/1551 [00:38<00:20, 26.06it/s]\u001b[A\n",
            " 67%|██████▋   | 1032/1551 [00:38<00:19, 26.36it/s]\u001b[A\n",
            " 67%|██████▋   | 1035/1551 [00:38<00:19, 26.76it/s]\u001b[A\n",
            " 67%|██████▋   | 1038/1551 [00:38<00:19, 26.70it/s]\u001b[A\n",
            " 67%|██████▋   | 1041/1551 [00:38<00:19, 26.30it/s]\u001b[A\n",
            " 67%|██████▋   | 1044/1551 [00:39<00:19, 26.46it/s]\u001b[A\n",
            " 68%|██████▊   | 1047/1551 [00:39<00:18, 26.88it/s]\u001b[A\n",
            " 68%|██████▊   | 1050/1551 [00:39<00:19, 26.26it/s]\u001b[A\n",
            " 68%|██████▊   | 1053/1551 [00:39<00:18, 26.40it/s]\u001b[A\n",
            " 68%|██████▊   | 1056/1551 [00:39<00:18, 26.59it/s]\u001b[A\n",
            " 68%|██████▊   | 1059/1551 [00:39<00:18, 26.38it/s]\u001b[A\n",
            " 68%|██████▊   | 1062/1551 [00:39<00:18, 26.82it/s]\u001b[A\n",
            " 69%|██████▊   | 1065/1551 [00:39<00:18, 26.95it/s]\u001b[A\n",
            " 69%|██████▉   | 1068/1551 [00:39<00:17, 27.03it/s]\u001b[A\n",
            " 69%|██████▉   | 1071/1551 [00:40<00:18, 26.63it/s]\u001b[A\n",
            " 69%|██████▉   | 1074/1551 [00:40<00:17, 26.95it/s]\u001b[A\n",
            " 69%|██████▉   | 1077/1551 [00:40<00:17, 26.48it/s]\u001b[A\n",
            " 70%|██████▉   | 1080/1551 [00:40<00:17, 26.75it/s]\u001b[A\n",
            " 70%|██████▉   | 1083/1551 [00:40<00:17, 27.23it/s]\u001b[A\n",
            " 70%|███████   | 1086/1551 [00:40<00:17, 26.91it/s]\u001b[A\n",
            " 70%|███████   | 1089/1551 [00:40<00:17, 27.00it/s]\u001b[A\n",
            " 70%|███████   | 1092/1551 [00:40<00:17, 26.54it/s]\u001b[A\n",
            " 71%|███████   | 1095/1551 [00:40<00:17, 26.52it/s]\u001b[A\n",
            " 71%|███████   | 1098/1551 [00:41<00:16, 26.79it/s]\u001b[A\n",
            " 71%|███████   | 1101/1551 [00:41<00:16, 27.23it/s]\u001b[A\n",
            " 71%|███████   | 1104/1551 [00:41<00:16, 26.67it/s]\u001b[A\n",
            " 71%|███████▏  | 1107/1551 [00:41<00:16, 26.75it/s]\u001b[A\n",
            " 72%|███████▏  | 1110/1551 [00:41<00:16, 26.86it/s]\u001b[A\n",
            " 72%|███████▏  | 1113/1551 [00:41<00:16, 27.07it/s]\u001b[A\n",
            " 72%|███████▏  | 1116/1551 [00:41<00:16, 26.61it/s]\u001b[A\n",
            " 72%|███████▏  | 1119/1551 [00:41<00:16, 26.44it/s]\u001b[A\n",
            " 72%|███████▏  | 1122/1551 [00:41<00:16, 26.70it/s]\u001b[A\n",
            " 73%|███████▎  | 1125/1551 [00:42<00:15, 26.76it/s]\u001b[A\n",
            " 73%|███████▎  | 1128/1551 [00:42<00:16, 25.25it/s]\u001b[A\n",
            " 73%|███████▎  | 1131/1551 [00:42<00:16, 25.10it/s]\u001b[A\n",
            " 73%|███████▎  | 1134/1551 [00:42<00:16, 25.77it/s]\u001b[A\n",
            " 73%|███████▎  | 1137/1551 [00:42<00:15, 26.26it/s]\u001b[A\n",
            " 74%|███████▎  | 1140/1551 [00:42<00:15, 26.46it/s]\u001b[A\n",
            " 74%|███████▎  | 1143/1551 [00:42<00:15, 26.67it/s]\u001b[A\n",
            " 74%|███████▍  | 1146/1551 [00:42<00:15, 26.63it/s]\u001b[A\n",
            " 74%|███████▍  | 1149/1551 [00:43<00:15, 26.41it/s]\u001b[A\n",
            " 74%|███████▍  | 1152/1551 [00:43<00:15, 26.32it/s]\u001b[A\n",
            " 74%|███████▍  | 1155/1551 [00:43<00:14, 26.72it/s]\u001b[A\n",
            " 75%|███████▍  | 1158/1551 [00:43<00:14, 26.28it/s]\u001b[A\n",
            " 75%|███████▍  | 1161/1551 [00:43<00:14, 26.44it/s]\u001b[A\n",
            " 75%|███████▌  | 1164/1551 [00:43<00:14, 26.32it/s]\u001b[A\n",
            " 75%|███████▌  | 1167/1551 [00:43<00:14, 26.48it/s]\u001b[A\n",
            " 75%|███████▌  | 1170/1551 [00:43<00:14, 26.50it/s]\u001b[A\n",
            " 76%|███████▌  | 1173/1551 [00:43<00:14, 26.63it/s]\u001b[A\n",
            " 76%|███████▌  | 1176/1551 [00:44<00:14, 26.33it/s]\u001b[A\n",
            " 76%|███████▌  | 1179/1551 [00:44<00:14, 26.54it/s]\u001b[A\n",
            " 76%|███████▌  | 1182/1551 [00:44<00:13, 26.73it/s]\u001b[A\n",
            " 76%|███████▋  | 1185/1551 [00:44<00:13, 26.28it/s]\u001b[A\n",
            " 77%|███████▋  | 1188/1551 [00:44<00:13, 26.57it/s]\u001b[A\n",
            " 77%|███████▋  | 1191/1551 [00:44<00:13, 26.54it/s]\u001b[A\n",
            " 77%|███████▋  | 1194/1551 [00:44<00:13, 26.48it/s]\u001b[A\n",
            " 77%|███████▋  | 1197/1551 [00:44<00:13, 26.73it/s]\u001b[A\n",
            " 77%|███████▋  | 1200/1551 [00:44<00:13, 26.93it/s]\u001b[A\n",
            " 78%|███████▊  | 1203/1551 [00:45<00:12, 27.04it/s]\u001b[A\n",
            " 78%|███████▊  | 1206/1551 [00:45<00:12, 26.85it/s]\u001b[A\n",
            " 78%|███████▊  | 1209/1551 [00:45<00:12, 27.09it/s]\u001b[A\n",
            " 78%|███████▊  | 1212/1551 [00:45<00:12, 26.56it/s]\u001b[A\n",
            " 78%|███████▊  | 1215/1551 [00:45<00:12, 26.48it/s]\u001b[A\n",
            " 79%|███████▊  | 1218/1551 [00:45<00:12, 26.68it/s]\u001b[A\n",
            " 79%|███████▊  | 1221/1551 [00:45<00:12, 26.82it/s]\u001b[A\n",
            " 79%|███████▉  | 1224/1551 [00:45<00:12, 26.85it/s]\u001b[A\n",
            " 79%|███████▉  | 1227/1551 [00:45<00:11, 27.14it/s]\u001b[A\n",
            " 79%|███████▉  | 1230/1551 [00:46<00:11, 27.14it/s]\u001b[A\n",
            " 79%|███████▉  | 1233/1551 [00:46<00:11, 27.01it/s]\u001b[A\n",
            " 80%|███████▉  | 1236/1551 [00:46<00:11, 27.16it/s]\u001b[A\n",
            " 80%|███████▉  | 1239/1551 [00:46<00:11, 26.61it/s]\u001b[A\n",
            " 80%|████████  | 1242/1551 [00:46<00:11, 26.78it/s]\u001b[A\n",
            " 80%|████████  | 1245/1551 [00:46<00:11, 26.70it/s]\u001b[A\n",
            " 80%|████████  | 1248/1551 [00:46<00:11, 26.94it/s]\u001b[A\n",
            " 81%|████████  | 1251/1551 [00:46<00:11, 27.03it/s]\u001b[A\n",
            " 81%|████████  | 1254/1551 [00:46<00:10, 27.04it/s]\u001b[A\n",
            " 81%|████████  | 1257/1551 [00:47<00:10, 26.85it/s]\u001b[A\n",
            " 81%|████████  | 1260/1551 [00:47<00:10, 27.16it/s]\u001b[A\n",
            " 81%|████████▏ | 1263/1551 [00:47<00:10, 27.16it/s]\u001b[A\n",
            " 82%|████████▏ | 1266/1551 [00:47<00:10, 26.67it/s]\u001b[A\n",
            " 82%|████████▏ | 1269/1551 [00:47<00:10, 26.25it/s]\u001b[A\n",
            " 82%|████████▏ | 1272/1551 [00:47<00:10, 26.64it/s]\u001b[A\n",
            " 82%|████████▏ | 1275/1551 [00:47<00:10, 26.83it/s]\u001b[A\n",
            " 82%|████████▏ | 1278/1551 [00:47<00:10, 26.97it/s]\u001b[A\n",
            " 83%|████████▎ | 1281/1551 [00:47<00:09, 27.12it/s]\u001b[A\n",
            " 83%|████████▎ | 1284/1551 [00:48<00:09, 27.05it/s]\u001b[A\n",
            " 83%|████████▎ | 1287/1551 [00:48<00:09, 26.55it/s]\u001b[A\n",
            " 83%|████████▎ | 1290/1551 [00:48<00:09, 26.14it/s]\u001b[A\n",
            " 83%|████████▎ | 1293/1551 [00:48<00:09, 26.38it/s]\u001b[A\n",
            " 84%|████████▎ | 1296/1551 [00:48<00:09, 26.29it/s]\u001b[A\n",
            " 84%|████████▍ | 1299/1551 [00:48<00:09, 26.02it/s]\u001b[A\n",
            " 84%|████████▍ | 1302/1551 [00:48<00:09, 26.44it/s]\u001b[A\n",
            " 84%|████████▍ | 1305/1551 [00:48<00:09, 26.85it/s]\u001b[A\n",
            " 84%|████████▍ | 1308/1551 [00:48<00:09, 26.94it/s]\u001b[A\n",
            " 85%|████████▍ | 1311/1551 [00:49<00:08, 27.03it/s]\u001b[A\n",
            " 85%|████████▍ | 1314/1551 [00:49<00:08, 27.13it/s]\u001b[A\n",
            " 85%|████████▍ | 1317/1551 [00:49<00:08, 27.01it/s]\u001b[A\n",
            " 85%|████████▌ | 1320/1551 [00:49<00:08, 26.95it/s]\u001b[A\n",
            " 85%|████████▌ | 1323/1551 [00:49<00:08, 26.52it/s]\u001b[A\n",
            " 85%|████████▌ | 1326/1551 [00:49<00:08, 27.02it/s]\u001b[A\n",
            " 86%|████████▌ | 1329/1551 [00:49<00:08, 26.84it/s]\u001b[A\n",
            " 86%|████████▌ | 1332/1551 [00:49<00:08, 26.92it/s]\u001b[A\n",
            " 86%|████████▌ | 1335/1551 [00:49<00:08, 26.96it/s]\u001b[A\n",
            " 86%|████████▋ | 1338/1551 [00:50<00:07, 27.02it/s]\u001b[A\n",
            " 86%|████████▋ | 1341/1551 [00:50<00:07, 26.72it/s]\u001b[A\n",
            " 87%|████████▋ | 1344/1551 [00:50<00:07, 26.76it/s]\u001b[A\n",
            " 87%|████████▋ | 1347/1551 [00:50<00:07, 26.72it/s]\u001b[A\n",
            " 87%|████████▋ | 1350/1551 [00:50<00:07, 26.29it/s]\u001b[A\n",
            " 87%|████████▋ | 1353/1551 [00:50<00:07, 26.59it/s]\u001b[A\n",
            " 87%|████████▋ | 1356/1551 [00:50<00:07, 26.78it/s]\u001b[A\n",
            " 88%|████████▊ | 1359/1551 [00:50<00:07, 27.11it/s]\u001b[A\n",
            " 88%|████████▊ | 1362/1551 [00:50<00:06, 27.27it/s]\u001b[A\n",
            " 88%|████████▊ | 1365/1551 [00:51<00:06, 27.32it/s]\u001b[A\n",
            " 88%|████████▊ | 1368/1551 [00:51<00:06, 27.17it/s]\u001b[A\n",
            " 88%|████████▊ | 1371/1551 [00:51<00:06, 26.97it/s]\u001b[A\n",
            " 89%|████████▊ | 1374/1551 [00:51<00:06, 27.05it/s]\u001b[A\n",
            " 89%|████████▉ | 1377/1551 [00:51<00:06, 25.95it/s]\u001b[A\n",
            " 89%|████████▉ | 1380/1551 [00:51<00:06, 25.84it/s]\u001b[A\n",
            " 89%|████████▉ | 1383/1551 [00:51<00:06, 26.22it/s]\u001b[A\n",
            " 89%|████████▉ | 1386/1551 [00:51<00:06, 26.49it/s]\u001b[A\n",
            " 90%|████████▉ | 1389/1551 [00:52<00:06, 26.83it/s]\u001b[A\n",
            " 90%|████████▉ | 1392/1551 [00:52<00:05, 27.13it/s]\u001b[A\n",
            " 90%|████████▉ | 1395/1551 [00:52<00:05, 27.19it/s]\u001b[A\n",
            " 90%|█████████ | 1398/1551 [00:52<00:05, 27.38it/s]\u001b[A\n",
            " 90%|█████████ | 1401/1551 [00:52<00:05, 26.97it/s]\u001b[A\n",
            " 91%|█████████ | 1404/1551 [00:52<00:05, 26.58it/s]\u001b[A\n",
            " 91%|█████████ | 1407/1551 [00:52<00:05, 26.97it/s]\u001b[A\n",
            " 91%|█████████ | 1410/1551 [00:52<00:05, 27.34it/s]\u001b[A\n",
            " 91%|█████████ | 1413/1551 [00:52<00:05, 27.57it/s]\u001b[A\n",
            " 91%|█████████▏| 1416/1551 [00:53<00:05, 26.04it/s]\u001b[A\n",
            " 91%|█████████▏| 1419/1551 [00:53<00:04, 26.48it/s]\u001b[A\n",
            " 92%|█████████▏| 1422/1551 [00:53<00:04, 26.84it/s]\u001b[A\n",
            " 92%|█████████▏| 1425/1551 [00:53<00:04, 26.77it/s]\u001b[A\n",
            " 92%|█████████▏| 1428/1551 [00:53<00:04, 26.57it/s]\u001b[A\n",
            " 92%|█████████▏| 1431/1551 [00:53<00:04, 26.32it/s]\u001b[A\n",
            " 92%|█████████▏| 1434/1551 [00:53<00:04, 26.73it/s]\u001b[A\n",
            " 93%|█████████▎| 1437/1551 [00:53<00:04, 26.94it/s]\u001b[A\n",
            " 93%|█████████▎| 1440/1551 [00:53<00:04, 27.01it/s]\u001b[A\n",
            " 93%|█████████▎| 1443/1551 [00:54<00:03, 27.15it/s]\u001b[A\n",
            " 93%|█████████▎| 1446/1551 [00:54<00:03, 27.14it/s]\u001b[A\n",
            " 93%|█████████▎| 1449/1551 [00:54<00:03, 26.99it/s]\u001b[A\n",
            " 94%|█████████▎| 1452/1551 [00:54<00:03, 26.74it/s]\u001b[A\n",
            " 94%|█████████▍| 1455/1551 [00:54<00:03, 26.61it/s]\u001b[A\n",
            " 94%|█████████▍| 1458/1551 [00:54<00:03, 26.49it/s]\u001b[A\n",
            " 94%|█████████▍| 1461/1551 [00:54<00:03, 26.39it/s]\u001b[A\n",
            " 94%|█████████▍| 1464/1551 [00:54<00:03, 26.72it/s]\u001b[A\n",
            " 95%|█████████▍| 1467/1551 [00:54<00:03, 26.25it/s]\u001b[A\n",
            " 95%|█████████▍| 1470/1551 [00:55<00:03, 26.33it/s]\u001b[A\n",
            " 95%|█████████▍| 1473/1551 [00:55<00:02, 26.48it/s]\u001b[A\n",
            " 95%|█████████▌| 1476/1551 [00:55<00:02, 26.65it/s]\u001b[A\n",
            " 95%|█████████▌| 1479/1551 [00:55<00:02, 26.62it/s]\u001b[A\n",
            " 96%|█████████▌| 1482/1551 [00:55<00:02, 26.87it/s]\u001b[A\n",
            " 96%|█████████▌| 1485/1551 [00:55<00:02, 27.13it/s]\u001b[A\n",
            " 96%|█████████▌| 1488/1551 [00:55<00:02, 26.58it/s]\u001b[A\n",
            " 96%|█████████▌| 1491/1551 [00:55<00:02, 26.80it/s]\u001b[A\n",
            " 96%|█████████▋| 1494/1551 [00:55<00:02, 26.88it/s]\u001b[A\n",
            " 97%|█████████▋| 1497/1551 [00:56<00:02, 26.88it/s]\u001b[A\n",
            " 97%|█████████▋| 1500/1551 [00:56<00:01, 27.15it/s]\u001b[A\n",
            " 97%|█████████▋| 1503/1551 [00:56<00:01, 27.27it/s]\u001b[A\n",
            " 97%|█████████▋| 1506/1551 [00:56<00:01, 27.14it/s]\u001b[A\n",
            " 97%|█████████▋| 1509/1551 [00:56<00:01, 27.12it/s]\u001b[A\n",
            " 97%|█████████▋| 1512/1551 [00:56<00:01, 27.44it/s]\u001b[A\n",
            " 98%|█████████▊| 1515/1551 [00:56<00:01, 26.81it/s]\u001b[A\n",
            " 98%|█████████▊| 1518/1551 [00:56<00:01, 26.20it/s]\u001b[A\n",
            " 98%|█████████▊| 1521/1551 [00:56<00:01, 26.47it/s]\u001b[A\n",
            " 98%|█████████▊| 1524/1551 [00:57<00:01, 26.66it/s]\u001b[A\n",
            " 98%|█████████▊| 1527/1551 [00:57<00:00, 26.83it/s]\u001b[A\n",
            " 99%|█████████▊| 1530/1551 [00:57<00:00, 26.85it/s]\u001b[A\n",
            " 99%|█████████▉| 1533/1551 [00:57<00:00, 26.83it/s]\u001b[A\n",
            " 99%|█████████▉| 1536/1551 [00:57<00:00, 26.93it/s]\u001b[A\n",
            " 99%|█████████▉| 1539/1551 [00:57<00:00, 26.90it/s]\u001b[A\n",
            " 99%|█████████▉| 1542/1551 [00:57<00:00, 26.55it/s]\u001b[A\n",
            "100%|█████████▉| 1545/1551 [00:57<00:00, 26.56it/s]\u001b[A\n",
            "100%|█████████▉| 1548/1551 [00:57<00:00, 26.73it/s]\u001b[A\n",
            "100%|██████████| 1551/1551 [00:58<00:00, 26.47it/s]\u001b[A\n",
            "\u001b[A"
          ],
          "name": "stderr"
        }
      ]
    },
    {
      "cell_type": "markdown",
      "metadata": {
        "id": "XNhH0I_y1c6o",
        "colab_type": "text"
      },
      "source": [
        "# Gracias por leer 🐮\n",
        "* Mi sitio web: http://jeffersonlicet.com/\n",
        "* Mi github: https://github.com/jeffersonlicet\n",
        "\n",
        "Puedes decargar la predicción aquí:\n",
        "https://drive.google.com/file/d/1myorzA-8osrAL6zXE-APFc1yGuOSvJbF/view?usp=sharing\n"
      ]
    }
  ]
}